{
 "cells": [
  {
   "cell_type": "markdown",
   "metadata": {},
   "source": [
    "# Client Project 5: EDA part"
   ]
  },
  {
   "cell_type": "code",
   "execution_count": null,
   "metadata": {},
   "outputs": [],
   "source": []
  },
  {
   "cell_type": "code",
   "execution_count": null,
   "metadata": {},
   "outputs": [],
   "source": []
  },
  {
   "cell_type": "code",
   "execution_count": 2,
   "metadata": {},
   "outputs": [],
   "source": [
    "# importing Necessary Library\n",
    "import pandas as pd\n",
    "import numpy as np\n",
    "import scipy.stats as stats\n",
    "import seaborn as sns\n",
    "import matplotlib.pyplot as plt\n",
    "import requests\n",
    "import datetime\n",
    "import json\n",
    "import os\n",
    "from bs4 import BeautifulSoup\n",
    "from sklearn.linear_model import LogisticRegressionCV\n",
    "from sklearn.linear_model import LogisticRegression\n",
    "from sklearn.pipeline import Pipeline\n",
    "from sklearn.model_selection import train_test_split\n",
    "from sklearn import metrics\n",
    "from sklearn.neighbors import KNeighborsClassifier\n",
    "from sklearn.model_selection import cross_val_score, StratifiedKFold\n",
    "from sklearn.metrics import classification_report\n",
    "from sklearn.naive_bayes import MultinomialNB, BernoulliNB, GaussianNB\n",
    "from sklearn.metrics import classification_report,confusion_matrix,accuracy_score\n",
    "from sklearn.model_selection import GridSearchCV,RandomizedSearchCV\n",
    "from sklearn.tree import DecisionTreeClassifier\n",
    "from sklearn.ensemble import RandomForestClassifier, ExtraTreesClassifier, BaggingClassifier\n",
    "from sklearn.feature_extraction.text import HashingVectorizer, TfidfVectorizer, CountVectorizer\n",
    "from sklearn.metrics import roc_auc_score\n",
    "from sklearn.externals.six import StringIO \n",
    "from IPython.display import Image  \n",
    "from sklearn.tree import export_graphviz\n",
    "#import pydotplus\n",
    "\n",
    "\n",
    "\n",
    "#  Configure Visual setting \n",
    "sns.set_style('whitegrid')\n",
    "#plt.style.use(['bmh','presentation'])\n",
    "plt.rcParams['figure.figsize'] = (10.0, 8.0) \n",
    "plt.style.use('ggplot')\n",
    "np.random.seed(42)\n",
    "sns.set()\n",
    "%config InlineBackend.figure_format = 'retina'\n",
    "%matplotlib inline    "
   ]
  },
  {
   "cell_type": "markdown",
   "metadata": {},
   "source": [
    "#### 1 Load the Data"
   ]
  },
  {
   "cell_type": "markdown",
   "metadata": {},
   "source": [
    "#### Load in the the data of scraped results"
   ]
  },
  {
   "cell_type": "code",
   "execution_count": 5,
   "metadata": {},
   "outputs": [],
   "source": [
    "# Lets load the Concatenated DataFrame and the engine specification will help to delimit the outliers\n",
    "df1 = pd.read_csv('./data/ne bomb cyclone data w:o location/ne_bomb_cyclone_before_tweets.csv',index_col ='Unnamed: 0' , engine='python')\n",
    "df2 = pd.read_csv('./data/ne bomb cyclone data w:o location/ne_bomb_cyclone_during_tweets.csv',index_col ='Unnamed: 0' , engine='python')\n",
    "df3 = pd.read_csv('./data/ne bomb cyclone data w:o location/ne_bomb_cyclone_after_tweets.csv',index_col ='Unnamed: 0' , engine='python')\n",
    "\n",
    "\n",
    "# To concatenate the three dataframes\n",
    "frames = [df1,df2,df3]\n",
    "\n",
    "df = pd.concat(frames)\n",
    "#df = pd.read_csv('Project3edapartone.csv',index_col ='Unnamed: 0' , engine='python')"
   ]
  },
  {
   "cell_type": "code",
   "execution_count": 6,
   "metadata": {},
   "outputs": [
    {
     "data": {
      "text/html": [
       "<div>\n",
       "<style scoped>\n",
       "    .dataframe tbody tr th:only-of-type {\n",
       "        vertical-align: middle;\n",
       "    }\n",
       "\n",
       "    .dataframe tbody tr th {\n",
       "        vertical-align: top;\n",
       "    }\n",
       "\n",
       "    .dataframe thead th {\n",
       "        text-align: right;\n",
       "    }\n",
       "</style>\n",
       "<table border=\"1\" class=\"dataframe\">\n",
       "  <thead>\n",
       "    <tr style=\"text-align: right;\">\n",
       "      <th></th>\n",
       "      <th>Event</th>\n",
       "      <th>Stage</th>\n",
       "      <th>Query Date</th>\n",
       "      <th>Query Term</th>\n",
       "      <th>Id</th>\n",
       "      <th>Username</th>\n",
       "      <th>Text</th>\n",
       "      <th>Date</th>\n",
       "      <th>Hashtags</th>\n",
       "      <th>Location</th>\n",
       "    </tr>\n",
       "  </thead>\n",
       "  <tbody>\n",
       "    <tr>\n",
       "      <th>0</th>\n",
       "      <td>ne_bomb_cyclone</td>\n",
       "      <td>before</td>\n",
       "      <td>2019-10-15</td>\n",
       "      <td>power outage</td>\n",
       "      <td>1183894397492043777</td>\n",
       "      <td>meekers999</td>\n",
       "      <td>Let's lose Govenor Gruesome in Cali please. He...</td>\n",
       "      <td>2019-10-14 23:56:34+00:00</td>\n",
       "      <td>NaN</td>\n",
       "      <td>NaN</td>\n",
       "    </tr>\n",
       "    <tr>\n",
       "      <th>1</th>\n",
       "      <td>ne_bomb_cyclone</td>\n",
       "      <td>before</td>\n",
       "      <td>2019-10-15</td>\n",
       "      <td>power outage</td>\n",
       "      <td>1183894362725289984</td>\n",
       "      <td>sharethiscrime</td>\n",
       "      <td>Last time I checked, he's still a floofy baby ...</td>\n",
       "      <td>2019-10-14 23:56:26+00:00</td>\n",
       "      <td>NaN</td>\n",
       "      <td>NaN</td>\n",
       "    </tr>\n",
       "    <tr>\n",
       "      <th>2</th>\n",
       "      <td>ne_bomb_cyclone</td>\n",
       "      <td>before</td>\n",
       "      <td>2019-10-15</td>\n",
       "      <td>power outage</td>\n",
       "      <td>1183894014573105152</td>\n",
       "      <td>News_1jl4</td>\n",
       "      <td>California’s power outage means problems for e...</td>\n",
       "      <td>2019-10-14 23:55:03+00:00</td>\n",
       "      <td>NaN</td>\n",
       "      <td>NaN</td>\n",
       "    </tr>\n",
       "    <tr>\n",
       "      <th>3</th>\n",
       "      <td>ne_bomb_cyclone</td>\n",
       "      <td>before</td>\n",
       "      <td>2019-10-15</td>\n",
       "      <td>power outage</td>\n",
       "      <td>1183893791415123968</td>\n",
       "      <td>IndeCardio</td>\n",
       "      <td>Newsome is vanguard Globalism in action! What ...</td>\n",
       "      <td>2019-10-14 23:54:10+00:00</td>\n",
       "      <td>NaN</td>\n",
       "      <td>NaN</td>\n",
       "    </tr>\n",
       "    <tr>\n",
       "      <th>4</th>\n",
       "      <td>ne_bomb_cyclone</td>\n",
       "      <td>before</td>\n",
       "      <td>2019-10-15</td>\n",
       "      <td>power outage</td>\n",
       "      <td>1183893732652810240</td>\n",
       "      <td>BaddictsPH</td>\n",
       "      <td>Super Typhoon Faxai hit Chiba prefecture in Se...</td>\n",
       "      <td>2019-10-14 23:53:56+00:00</td>\n",
       "      <td>NaN</td>\n",
       "      <td>NaN</td>\n",
       "    </tr>\n",
       "  </tbody>\n",
       "</table>\n",
       "</div>"
      ],
      "text/plain": [
       "             Event   Stage  Query Date    Query Term                   Id  \\\n",
       "0  ne_bomb_cyclone  before  2019-10-15  power outage  1183894397492043777   \n",
       "1  ne_bomb_cyclone  before  2019-10-15  power outage  1183894362725289984   \n",
       "2  ne_bomb_cyclone  before  2019-10-15  power outage  1183894014573105152   \n",
       "3  ne_bomb_cyclone  before  2019-10-15  power outage  1183893791415123968   \n",
       "4  ne_bomb_cyclone  before  2019-10-15  power outage  1183893732652810240   \n",
       "\n",
       "         Username                                               Text  \\\n",
       "0      meekers999  Let's lose Govenor Gruesome in Cali please. He...   \n",
       "1  sharethiscrime  Last time I checked, he's still a floofy baby ...   \n",
       "2       News_1jl4  California’s power outage means problems for e...   \n",
       "3      IndeCardio  Newsome is vanguard Globalism in action! What ...   \n",
       "4      BaddictsPH  Super Typhoon Faxai hit Chiba prefecture in Se...   \n",
       "\n",
       "                        Date Hashtags  Location  \n",
       "0  2019-10-14 23:56:34+00:00      NaN       NaN  \n",
       "1  2019-10-14 23:56:26+00:00      NaN       NaN  \n",
       "2  2019-10-14 23:55:03+00:00      NaN       NaN  \n",
       "3  2019-10-14 23:54:10+00:00      NaN       NaN  \n",
       "4  2019-10-14 23:53:56+00:00      NaN       NaN  "
      ]
     },
     "execution_count": 6,
     "metadata": {},
     "output_type": "execute_result"
    }
   ],
   "source": [
    "df.head()"
   ]
  },
  {
   "cell_type": "markdown",
   "metadata": {},
   "source": [
    "##### 2.1 Checking the DataFrame basic Format and columns"
   ]
  },
  {
   "cell_type": "code",
   "execution_count": 7,
   "metadata": {},
   "outputs": [
    {
     "name": "stdout",
     "output_type": "stream",
     "text": [
      "             Event   Stage  Query Date    Query Term                   Id  \\\n",
      "0  ne_bomb_cyclone  before  2019-10-15  power outage  1183894397492043777   \n",
      "1  ne_bomb_cyclone  before  2019-10-15  power outage  1183894362725289984   \n",
      "2  ne_bomb_cyclone  before  2019-10-15  power outage  1183894014573105152   \n",
      "3  ne_bomb_cyclone  before  2019-10-15  power outage  1183893791415123968   \n",
      "4  ne_bomb_cyclone  before  2019-10-15  power outage  1183893732652810240   \n",
      "\n",
      "         Username                                               Text  \\\n",
      "0      meekers999  Let's lose Govenor Gruesome in Cali please. He...   \n",
      "1  sharethiscrime  Last time I checked, he's still a floofy baby ...   \n",
      "2       News_1jl4  California’s power outage means problems for e...   \n",
      "3      IndeCardio  Newsome is vanguard Globalism in action! What ...   \n",
      "4      BaddictsPH  Super Typhoon Faxai hit Chiba prefecture in Se...   \n",
      "\n",
      "                        Date Hashtags  Location  \n",
      "0  2019-10-14 23:56:34+00:00      NaN       NaN  \n",
      "1  2019-10-14 23:56:26+00:00      NaN       NaN  \n",
      "2  2019-10-14 23:55:03+00:00      NaN       NaN  \n",
      "3  2019-10-14 23:54:10+00:00      NaN       NaN  \n",
      "4  2019-10-14 23:53:56+00:00      NaN       NaN  \n",
      "(6000, 10)\n",
      "                 Id  Location\n",
      "count  6.000000e+03       0.0\n",
      "mean   1.184496e+18       NaN\n",
      "std    7.203922e+14       NaN\n",
      "min    1.183428e+18       NaN\n",
      "25%    1.183793e+18       NaN\n",
      "50%    1.184462e+18       NaN\n",
      "75%    1.185247e+18       NaN\n",
      "max    1.185705e+18       NaN\n"
     ]
    }
   ],
   "source": [
    "# print out the  size of the data and the number of rows and columns\n",
    "print(df.head())\n",
    "print(df.shape)\n",
    "print(df.describe())"
   ]
  },
  {
   "cell_type": "markdown",
   "metadata": {},
   "source": [
    "##### 2.2. Determining Missing observations"
   ]
  },
  {
   "cell_type": "code",
   "execution_count": 8,
   "metadata": {},
   "outputs": [
    {
     "data": {
      "text/plain": [
       "Event            0\n",
       "Stage            0\n",
       "Query Date       0\n",
       "Query Term       0\n",
       "Id               0\n",
       "Username         0\n",
       "Text             0\n",
       "Date             0\n",
       "Hashtags      4806\n",
       "Location      6000\n",
       "dtype: int64"
      ]
     },
     "execution_count": 8,
     "metadata": {},
     "output_type": "execute_result"
    }
   ],
   "source": [
    "df.isnull().sum()"
   ]
  },
  {
   "cell_type": "code",
   "execution_count": 9,
   "metadata": {},
   "outputs": [
    {
     "data": {
      "text/plain": [
       "Location      1.000\n",
       "Hashtags      0.801\n",
       "Date          0.000\n",
       "Text          0.000\n",
       "Username      0.000\n",
       "Id            0.000\n",
       "Query Term    0.000\n",
       "Query Date    0.000\n",
       "Stage         0.000\n",
       "Event         0.000\n",
       "dtype: float64"
      ]
     },
     "execution_count": 9,
     "metadata": {},
     "output_type": "execute_result"
    }
   ],
   "source": [
    "# Checking missing values `.isnull() will convert to the boolean True and False and return new DataFrame where null values\n",
    "# are indicated by True and the .sum() will give us the total numbel of null values per column.\n",
    "# checking the null values in the DF , according to Ben this is the fancy one\n",
    "(df.isnull().sum() / df.shape[0]).sort_values(ascending=False)   # credit Ben shaver"
   ]
  },
  {
   "cell_type": "markdown",
   "metadata": {},
   "source": [
    "#####  2.3. Describing the summary statistics of the columns"
   ]
  },
  {
   "cell_type": "code",
   "execution_count": 10,
   "metadata": {},
   "outputs": [
    {
     "data": {
      "text/html": [
       "<div>\n",
       "<style scoped>\n",
       "    .dataframe tbody tr th:only-of-type {\n",
       "        vertical-align: middle;\n",
       "    }\n",
       "\n",
       "    .dataframe tbody tr th {\n",
       "        vertical-align: top;\n",
       "    }\n",
       "\n",
       "    .dataframe thead th {\n",
       "        text-align: right;\n",
       "    }\n",
       "</style>\n",
       "<table border=\"1\" class=\"dataframe\">\n",
       "  <thead>\n",
       "    <tr style=\"text-align: right;\">\n",
       "      <th></th>\n",
       "      <th>Event</th>\n",
       "      <th>Stage</th>\n",
       "      <th>Query Date</th>\n",
       "      <th>Query Term</th>\n",
       "      <th>Id</th>\n",
       "      <th>Username</th>\n",
       "      <th>Text</th>\n",
       "      <th>Date</th>\n",
       "      <th>Hashtags</th>\n",
       "      <th>Location</th>\n",
       "    </tr>\n",
       "  </thead>\n",
       "  <tbody>\n",
       "    <tr>\n",
       "      <th>0</th>\n",
       "      <td>ne_bomb_cyclone</td>\n",
       "      <td>before</td>\n",
       "      <td>2019-10-15</td>\n",
       "      <td>power outage</td>\n",
       "      <td>1183894397492043777</td>\n",
       "      <td>meekers999</td>\n",
       "      <td>Let's lose Govenor Gruesome in Cali please. He...</td>\n",
       "      <td>2019-10-14 23:56:34+00:00</td>\n",
       "      <td>NaN</td>\n",
       "      <td>NaN</td>\n",
       "    </tr>\n",
       "    <tr>\n",
       "      <th>1</th>\n",
       "      <td>ne_bomb_cyclone</td>\n",
       "      <td>before</td>\n",
       "      <td>2019-10-15</td>\n",
       "      <td>power outage</td>\n",
       "      <td>1183894362725289984</td>\n",
       "      <td>sharethiscrime</td>\n",
       "      <td>Last time I checked, he's still a floofy baby ...</td>\n",
       "      <td>2019-10-14 23:56:26+00:00</td>\n",
       "      <td>NaN</td>\n",
       "      <td>NaN</td>\n",
       "    </tr>\n",
       "    <tr>\n",
       "      <th>2</th>\n",
       "      <td>ne_bomb_cyclone</td>\n",
       "      <td>before</td>\n",
       "      <td>2019-10-15</td>\n",
       "      <td>power outage</td>\n",
       "      <td>1183894014573105152</td>\n",
       "      <td>News_1jl4</td>\n",
       "      <td>California’s power outage means problems for e...</td>\n",
       "      <td>2019-10-14 23:55:03+00:00</td>\n",
       "      <td>NaN</td>\n",
       "      <td>NaN</td>\n",
       "    </tr>\n",
       "    <tr>\n",
       "      <th>3</th>\n",
       "      <td>ne_bomb_cyclone</td>\n",
       "      <td>before</td>\n",
       "      <td>2019-10-15</td>\n",
       "      <td>power outage</td>\n",
       "      <td>1183893791415123968</td>\n",
       "      <td>IndeCardio</td>\n",
       "      <td>Newsome is vanguard Globalism in action! What ...</td>\n",
       "      <td>2019-10-14 23:54:10+00:00</td>\n",
       "      <td>NaN</td>\n",
       "      <td>NaN</td>\n",
       "    </tr>\n",
       "    <tr>\n",
       "      <th>4</th>\n",
       "      <td>ne_bomb_cyclone</td>\n",
       "      <td>before</td>\n",
       "      <td>2019-10-15</td>\n",
       "      <td>power outage</td>\n",
       "      <td>1183893732652810240</td>\n",
       "      <td>BaddictsPH</td>\n",
       "      <td>Super Typhoon Faxai hit Chiba prefecture in Se...</td>\n",
       "      <td>2019-10-14 23:53:56+00:00</td>\n",
       "      <td>NaN</td>\n",
       "      <td>NaN</td>\n",
       "    </tr>\n",
       "  </tbody>\n",
       "</table>\n",
       "</div>"
      ],
      "text/plain": [
       "             Event   Stage  Query Date    Query Term                   Id  \\\n",
       "0  ne_bomb_cyclone  before  2019-10-15  power outage  1183894397492043777   \n",
       "1  ne_bomb_cyclone  before  2019-10-15  power outage  1183894362725289984   \n",
       "2  ne_bomb_cyclone  before  2019-10-15  power outage  1183894014573105152   \n",
       "3  ne_bomb_cyclone  before  2019-10-15  power outage  1183893791415123968   \n",
       "4  ne_bomb_cyclone  before  2019-10-15  power outage  1183893732652810240   \n",
       "\n",
       "         Username                                               Text  \\\n",
       "0      meekers999  Let's lose Govenor Gruesome in Cali please. He...   \n",
       "1  sharethiscrime  Last time I checked, he's still a floofy baby ...   \n",
       "2       News_1jl4  California’s power outage means problems for e...   \n",
       "3      IndeCardio  Newsome is vanguard Globalism in action! What ...   \n",
       "4      BaddictsPH  Super Typhoon Faxai hit Chiba prefecture in Se...   \n",
       "\n",
       "                        Date Hashtags  Location  \n",
       "0  2019-10-14 23:56:34+00:00      NaN       NaN  \n",
       "1  2019-10-14 23:56:26+00:00      NaN       NaN  \n",
       "2  2019-10-14 23:55:03+00:00      NaN       NaN  \n",
       "3  2019-10-14 23:54:10+00:00      NaN       NaN  \n",
       "4  2019-10-14 23:53:56+00:00      NaN       NaN  "
      ]
     },
     "execution_count": 10,
     "metadata": {},
     "output_type": "execute_result"
    }
   ],
   "source": [
    "df.head()"
   ]
  },
  {
   "cell_type": "code",
   "execution_count": 11,
   "metadata": {},
   "outputs": [
    {
     "data": {
      "text/html": [
       "<div>\n",
       "<style scoped>\n",
       "    .dataframe tbody tr th:only-of-type {\n",
       "        vertical-align: middle;\n",
       "    }\n",
       "\n",
       "    .dataframe tbody tr th {\n",
       "        vertical-align: top;\n",
       "    }\n",
       "\n",
       "    .dataframe thead th {\n",
       "        text-align: right;\n",
       "    }\n",
       "</style>\n",
       "<table border=\"1\" class=\"dataframe\">\n",
       "  <thead>\n",
       "    <tr style=\"text-align: right;\">\n",
       "      <th></th>\n",
       "      <th>count</th>\n",
       "      <th>mean</th>\n",
       "      <th>std</th>\n",
       "      <th>min</th>\n",
       "      <th>25%</th>\n",
       "      <th>50%</th>\n",
       "      <th>75%</th>\n",
       "      <th>max</th>\n",
       "    </tr>\n",
       "  </thead>\n",
       "  <tbody>\n",
       "    <tr>\n",
       "      <th>Id</th>\n",
       "      <td>6000.0</td>\n",
       "      <td>1.184496e+18</td>\n",
       "      <td>7.203922e+14</td>\n",
       "      <td>1.183428e+18</td>\n",
       "      <td>1.183793e+18</td>\n",
       "      <td>1.184462e+18</td>\n",
       "      <td>1.185247e+18</td>\n",
       "      <td>1.185705e+18</td>\n",
       "    </tr>\n",
       "    <tr>\n",
       "      <th>Location</th>\n",
       "      <td>0.0</td>\n",
       "      <td>NaN</td>\n",
       "      <td>NaN</td>\n",
       "      <td>NaN</td>\n",
       "      <td>NaN</td>\n",
       "      <td>NaN</td>\n",
       "      <td>NaN</td>\n",
       "      <td>NaN</td>\n",
       "    </tr>\n",
       "  </tbody>\n",
       "</table>\n",
       "</div>"
      ],
      "text/plain": [
       "           count          mean           std           min           25%  \\\n",
       "Id        6000.0  1.184496e+18  7.203922e+14  1.183428e+18  1.183793e+18   \n",
       "Location     0.0           NaN           NaN           NaN           NaN   \n",
       "\n",
       "                   50%           75%           max  \n",
       "Id        1.184462e+18  1.185247e+18  1.185705e+18  \n",
       "Location           NaN           NaN           NaN  "
      ]
     },
     "execution_count": 11,
     "metadata": {},
     "output_type": "execute_result"
    }
   ],
   "source": [
    "# the describe function gives summary statistics for each variable\n",
    "df.describe().T"
   ]
  },
  {
   "cell_type": "code",
   "execution_count": 17,
   "metadata": {},
   "outputs": [],
   "source": [
    "# sns.distplot(df, kde = True)"
   ]
  },
  {
   "cell_type": "markdown",
   "metadata": {},
   "source": [
    "##### 2.4.  Feature Engineering/ Exploring the Target Variable"
   ]
  },
  {
   "cell_type": "code",
   "execution_count": 13,
   "metadata": {},
   "outputs": [
    {
     "data": {
      "text/plain": [
       "5442"
      ]
     },
     "execution_count": 13,
     "metadata": {},
     "output_type": "execute_result"
    }
   ],
   "source": [
    "#checking the number of unique titles in the data set\n",
    "len(df['Text'].unique())"
   ]
  },
  {
   "cell_type": "code",
   "execution_count": 14,
   "metadata": {},
   "outputs": [
    {
     "data": {
      "text/plain": [
       "['Let\\'s lose Govenor Gruesome in Cali please. He just ordered the shut down of all mountain top ham radio repeaters. That means \"no emergency communications\" will be available during say.. a power outage ands mass fires. He\\'s trying to kill you.',\n",
       " \"Last time I checked, he's still a floofy baby complaining about power outage \",\n",
       " 'California’s power outage means problems for electric cars.. Washingtonpost - Twitter - News - Noticias - Bitcoin - CryptoCurrency - @InvestCrypForex - @1jl4com - @Health14Fitness - @Marketing_1jl4 - @News_1jl4 &gt;']"
      ]
     },
     "execution_count": 14,
     "metadata": {},
     "output_type": "execute_result"
    }
   ],
   "source": [
    "x = list(df['Text'].head(3))   # calling the five titles as list from the Df\n",
    "x"
   ]
  },
  {
   "cell_type": "code",
   "execution_count": null,
   "metadata": {},
   "outputs": [],
   "source": []
  }
 ],
 "metadata": {
  "kernelspec": {
   "display_name": "Python 3",
   "language": "python",
   "name": "python3"
  },
  "language_info": {
   "codemirror_mode": {
    "name": "ipython",
    "version": 3
   },
   "file_extension": ".py",
   "mimetype": "text/x-python",
   "name": "python",
   "nbconvert_exporter": "python",
   "pygments_lexer": "ipython3",
   "version": "3.6.4"
  }
 },
 "nbformat": 4,
 "nbformat_minor": 4
}
