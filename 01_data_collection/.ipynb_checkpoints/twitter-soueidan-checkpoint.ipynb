{
 "cells": [
  {
   "cell_type": "markdown",
   "metadata": {},
   "source": [
    "**Library Imports**"
   ]
  },
  {
   "cell_type": "code",
   "execution_count": 1,
   "metadata": {},
   "outputs": [],
   "source": [
    "import sys\n",
    "import pandas as pd\n",
    "import datetime\n",
    "import time\n",
    "import os\n",
    "import tweepy\n",
    "import GetOldTweets3 as got"
   ]
  },
  {
   "cell_type": "markdown",
   "metadata": {},
   "source": [
    "**Credentials: Consumer and Access**"
   ]
  },
  {
   "cell_type": "code",
   "execution_count": 2,
   "metadata": {},
   "outputs": [],
   "source": [
    "consumer_key = \"m8rPuAqDoxlp21cqf42OaCVNh\"\n",
    "consumer_secret = \"xnXprDHDJXgflYHENr1IrESBxWlZO2nFbaCCKiNuMmZMGltZcK\"\n",
    "access_token = \"A9GDAnMxp0ZqCJxop9101X7zeL9Ph6L6I5hZsQHbnGPeU\"\n",
    "access_token_secret = \"A9GDAnMxp0ZqCJxop9101X7zeL9Ph6L6I5hZsQHbnGPeU\""
   ]
  },
  {
   "cell_type": "markdown",
   "metadata": {},
   "source": [
    "**Create API Connection**"
   ]
  },
  {
   "cell_type": "code",
   "execution_count": 3,
   "metadata": {},
   "outputs": [],
   "source": [
    "auth = tweepy.OAuthHandler(consumer_key, consumer_secret)\n",
    "auth.set_access_token(access_token, access_token_secret)\n",
    "api = tweepy.API(auth,wait_on_rate_limit=True)"
   ]
  },
  {
   "cell_type": "markdown",
   "metadata": {},
   "source": [
    "**Event Dictionary**"
   ]
  },
  {
   "cell_type": "code",
   "execution_count": 4,
   "metadata": {},
   "outputs": [],
   "source": [
    "major_events = {'NE Winter Storm' : {\n",
    "                                'city'       : {'Boston'\n",
    "                                                    'lat'        : 42.358429,\n",
    "                                                    'long'       : -71.0597687,\n",
    "                                                    'radius'     : '10mi',\n",
    "                                'queries'    : ['power','outage','blackout'],\n",
    "                                'start_year' : 2019,\n",
    "                                'start_month': 10,\n",
    "                                'start_day'  : 16, },\n",
    "                'NYC Blackout'    : {\n",
    "                                'city'       : 'New York City',\n",
    "                                'lat'        : 40.730610,\n",
    "                                'long'       : -73.935242,\n",
    "                                'radius'     : '15mi',\n",
    "                                'queries'    : ['power','outage','blackout'],\n",
    "                                'start_year' : 2019,\n",
    "                                'start_month': 7,\n",
    "                                'start_day'  : 13, }\n",
    "                \n",
    "                }"
   ]
  },
  {
   "cell_type": "markdown",
   "metadata": {},
   "source": [
    "**Search Function: Tweepy**"
   ]
  },
  {
   "cell_type": "code",
   "execution_count": 5,
   "metadata": {},
   "outputs": [
    {
     "data": {
      "text/html": [
       "<div>\n",
       "<style scoped>\n",
       "    .dataframe tbody tr th:only-of-type {\n",
       "        vertical-align: middle;\n",
       "    }\n",
       "\n",
       "    .dataframe tbody tr th {\n",
       "        vertical-align: top;\n",
       "    }\n",
       "\n",
       "    .dataframe thead th {\n",
       "        text-align: right;\n",
       "    }\n",
       "</style>\n",
       "<table border=\"1\" class=\"dataframe\">\n",
       "  <thead>\n",
       "    <tr style=\"text-align: right;\">\n",
       "      <th></th>\n",
       "      <th>DateTime</th>\n",
       "      <th>Text</th>\n",
       "      <th>Username</th>\n",
       "      <th>Location</th>\n",
       "      <th>Place</th>\n",
       "    </tr>\n",
       "  </thead>\n",
       "  <tbody>\n",
       "    <tr>\n",
       "      <th>0</th>\n",
       "      <td>2020-05-10 09:24:44</td>\n",
       "      <td>RT @niconikon01: FGOイベント「復刻:オール信長総進撃 ぐだぐだファイナル...</td>\n",
       "      <td>wangan_Blackout</td>\n",
       "      <td>東京</td>\n",
       "      <td>None</td>\n",
       "    </tr>\n",
       "  </tbody>\n",
       "</table>\n",
       "</div>"
      ],
      "text/plain": [
       "             DateTime                                               Text  \\\n",
       "0 2020-05-10 09:24:44  RT @niconikon01: FGOイベント「復刻:オール信長総進撃 ぐだぐだファイナル...   \n",
       "\n",
       "          Username Location Place  \n",
       "0  wangan_Blackout       東京  None  "
      ]
     },
     "execution_count": 5,
     "metadata": {},
     "output_type": "execute_result"
    }
   ],
   "source": [
    "geo_tweets = []\n",
    "hashtag_filter  = None\n",
    "query_filter = '#poweroutage'\n",
    "#geo_filter = '40.730610,-73.935242,15mi'\n",
    "time_filter = None\n",
    "\n",
    "for tweet in api.search(q=query_filter, count=500):\n",
    "    geo_tweets.append((tweet.created_at,tweet.text,tweet.user.screen_name,tweet.user.location,tweet.place))\n",
    "\n",
    "queries = 'blackout'\n",
    "geo = 40.730610,-73.935242,'15mi'\n",
    "year = 2019\n",
    "month = 10\n",
    "day = 16\n",
    "\n",
    "tweets = []\n",
    "\n",
    "for tweet in api.search(q=queries, geocode='40.730610,-73.935242,15mi', until='2019-07-14', count=100):\n",
    "    tweets.append((tweet.created_at,tweet.text,tweet.user.screen_name,tweet.user.location,tweet.place))\n",
    "\n",
    "# Boston Winter Snow Storm\n",
    "queries = 'blackout'\n",
    "geo = '42.358429,-71.0597687,15mi'\n",
    "start_date = datetime.datetime(2019, 10, 16, 12, 00, 00)\n",
    "end_date = datetime.datetime(2019, 10, 16, 23, 00, 00)\n",
    "\n",
    "\n",
    "tweets = []\n",
    "\n",
    "for tweet in api.search(q=queries,\n",
    "                        #geocode=geo,\n",
    "                        since=start_date,\n",
    "                        #until=end_date,\n",
    "                        count=100):\n",
    "    tweets.append((tweet.created_at,tweet.text,tweet.user.screen_name,tweet.user.location,tweet.place))\n",
    "\n",
    "df_tweets = pd.DataFrame(tweets, columns = ['DateTime','Text','Username','Location','Place'])\n",
    "\n",
    "df_tweets"
   ]
  },
  {
   "cell_type": "markdown",
   "metadata": {},
   "source": [
    "**Search Function: Get Old Tweets 3**"
   ]
  },
  {
   "cell_type": "code",
   "execution_count": 6,
   "metadata": {
    "colab": {},
    "colab_type": "code",
    "id": "JSjpix_9A5e6"
   },
   "outputs": [],
   "source": [
    "# Function that pulls tweets based on a general search query and turns to csv file\n",
    "\n",
    "# Parameters: (text query you want to search), (max number of most recent tweets to pull from)\n",
    "def text_query_to_csv(query, count, start_date, end_date):\n",
    "    # Creation of query object\n",
    "    tweetCriteria = got.manager.TweetCriteria().setQuerySearch(query)\\\n",
    "                                               .setMaxTweets(count)\\\n",
    "                                               .setSince(start_date)\\\n",
    "                                               .setUntil(end_date)\\\n",
    "                                             #  .setNear(city)\\\n",
    "                                            #  .setWithin(radius)\n",
    "    # Creation of list that contains all tweets\n",
    "    tweets = got.manager.TweetManager.getTweets(tweetCriteria)\n",
    "\n",
    "    # Creating list of chosen tweet data\n",
    "    text_tweets = [[tweet.id, tweet.username, tweet.text, tweet.date, tweet.hashtags, tweet.geo] for tweet in tweets]\n",
    "\n",
    "    # Creation of dataframe from tweets\n",
    "    tweets_df = pd.DataFrame(text_tweets, columns = ['Id','Username','Text','Date','Hashtags','Location'])\n",
    "\n",
    "    # Converting tweets dataframe to csv file\n",
    "    tweets_df.to_csv('{}-{}k-tweets.csv'.format(query, int(count/1000)), sep=',')"
   ]
  },
  {
   "cell_type": "code",
   "execution_count": 8,
   "metadata": {},
   "outputs": [],
   "source": [
    "# Boston \n",
    "\n",
    "query = 'power outage'\n",
    "count = 5000\n",
    "since = '2019-10-10'\n",
    "until = '2019-10-20'\n",
    "city = 'Boston'\n",
    "radius = '15mi'\n",
    "\n",
    "text_query_to_csv(query,count,since,until)"
   ]
  },
  {
   "cell_type": "markdown",
   "metadata": {},
   "source": [
    "**Notes**\n",
    "\n",
    "\n",
    "- 450 tweets / 15 mins using app authorization\n",
    "- build query list to search multiple terms\n",
    "- build datetime filter for tweets between specific range\n",
    "- build location filter for tweets in specific locations\n",
    "- filter search by location\n",
    "- get only tweets with location properties\n",
    "- filter tweets by time range"
   ]
  }
 ],
 "metadata": {
  "kernelspec": {
   "display_name": "Python 3",
   "language": "python",
   "name": "python3"
  },
  "language_info": {
   "codemirror_mode": {
    "name": "ipython",
    "version": 3
   },
   "file_extension": ".py",
   "mimetype": "text/x-python",
   "name": "python",
   "nbconvert_exporter": "python",
   "pygments_lexer": "ipython3",
   "version": "3.7.6"
  }
 },
 "nbformat": 4,
 "nbformat_minor": 4
}
