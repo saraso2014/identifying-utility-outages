{
 "cells": [
  {
   "cell_type": "markdown",
   "metadata": {},
   "source": [
    "# Generate Features"
   ]
  },
  {
   "cell_type": "markdown",
   "metadata": {},
   "source": [
    "This notebook details the generatino of features for the scraped data."
   ]
  },
  {
   "cell_type": "code",
   "execution_count": 1,
   "metadata": {},
   "outputs": [],
   "source": [
    "# Import Libraries:\n",
    "\n",
    "\n",
    "import pandas as pd\n",
    "\n",
    "# ! pip install geotext\n",
    "# ! pip install geopy\n",
    "\n",
    "from urllib import request\n",
    "from geotext import GeoText\n",
    "\n",
    "from geopy.geocoders import Nominatim\n",
    "from geopy.exc import GeocoderTimedOut"
   ]
  },
  {
   "cell_type": "code",
   "execution_count": 2,
   "metadata": {},
   "outputs": [],
   "source": [
    "# Read CSVs:\n",
    "\n",
    "bc_before = pd.read_csv('../data/ne bomb cyclone data w:o location/ne_bomb_cyclone_before_tweets.csv')\n",
    "bc_during = pd.read_csv('../data/ne bomb cyclone data w:o location/ne_bomb_cyclone_during_tweets.csv')\n",
    "bc_after  = pd.read_csv('../data/ne bomb cyclone data w:o location/ne_bomb_cyclone_after_tweets.csv')\n",
    "\n",
    "jan_before = pd.read_csv('../data/january/january-early_after_tweets.csv')\n",
    "jan_during = pd.read_csv('../data/january/january-mid_during_tweets.csv')\n",
    "jan_after = pd.read_csv('../data/january/january-end_before_tweets.csv')\n",
    "\n",
    "jul_before = pd.read_csv('../data/january/january-early_after_tweets.csv')\n",
    "jul_during = pd.read_csv('../data/january/january-mid_during_tweets.csv')\n",
    "jul_after = pd.read_csv('../data/january/january-end_before_tweets.csv')"
   ]
  },
  {
   "cell_type": "code",
   "execution_count": 3,
   "metadata": {},
   "outputs": [],
   "source": [
    "# Concat CSVs:\n",
    "\n",
    "dfs = [bc_before, bc_during, bc_after, jan_before, jan_during, jan_after]"
   ]
  },
  {
   "cell_type": "code",
   "execution_count": 4,
   "metadata": {},
   "outputs": [],
   "source": [
    "# Concatenate all data into one DataFrame:\n",
    "\n",
    "df = pd.concat(dfs, ignore_index=True)"
   ]
  },
  {
   "cell_type": "code",
   "execution_count": 5,
   "metadata": {},
   "outputs": [
    {
     "data": {
      "text/plain": [
       "(12000, 11)"
      ]
     },
     "execution_count": 5,
     "metadata": {},
     "output_type": "execute_result"
    }
   ],
   "source": [
    "df.shape"
   ]
  },
  {
   "cell_type": "code",
   "execution_count": 9,
   "metadata": {},
   "outputs": [],
   "source": [
    "# Write merged CSV:\n",
    "\n",
    "df.to_csv('../data/merged/merged_data_unclean.csv')"
   ]
  },
  {
   "cell_type": "code",
   "execution_count": null,
   "metadata": {},
   "outputs": [],
   "source": []
  }
 ],
 "metadata": {
  "kernelspec": {
   "display_name": "Python 3",
   "language": "python",
   "name": "python3"
  },
  "language_info": {
   "codemirror_mode": {
    "name": "ipython",
    "version": 3
   },
   "file_extension": ".py",
   "mimetype": "text/x-python",
   "name": "python",
   "nbconvert_exporter": "python",
   "pygments_lexer": "ipython3",
   "version": "3.7.6"
  }
 },
 "nbformat": 4,
 "nbformat_minor": 4
}
