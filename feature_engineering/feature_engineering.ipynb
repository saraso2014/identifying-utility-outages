{
 "cells": [
  {
   "cell_type": "markdown",
   "metadata": {},
   "source": [
    "# Generate Features"
   ]
  },
  {
   "cell_type": "markdown",
   "metadata": {},
   "source": [
    "This notebook details the generatino of features for the scraped data."
   ]
  },
  {
   "cell_type": "code",
   "execution_count": 2,
   "metadata": {},
   "outputs": [],
   "source": [
    "# Import Libraries:\n",
    "\n",
    "\n",
    "import pandas as pd\n",
    "\n",
    "# ! pip install geotext\n",
    "# ! pip install geopy\n",
    "\n",
    "from urllib import request\n",
    "from geotext import GeoText\n",
    "\n",
    "from geopy.geocoders import Nominatim\n",
    "from geopy.exc import GeocoderTimedOut"
   ]
  },
  {
   "cell_type": "code",
   "execution_count": 14,
   "metadata": {},
   "outputs": [],
   "source": [
    "# Read CSVs:\n",
    "\n",
    "bc_before = pd.read_csv('../data/ne bomb cyclone data w:o location/ne_bomb_cyclone_before_tweets.csv')\n",
    "bc_during = pd.read_csv('../data/ne bomb cyclone data w:o location/ne_bomb_cyclone_during_tweets.csv')\n",
    "bc_after  = pd.read_csv('../data/ne bomb cyclone data w:o location/ne_bomb_cyclone_after_tweets.csv')\n",
    "\n",
    "jan_before = pd.read_csv('../data/january/january-early_after_tweets.csv')\n",
    "jan_during = pd.read_csv('../data/january/january-mid_during_tweets.csv')\n",
    "jan_after = pd.read_csv('../data/january/january-end_before_tweets.csv')\n",
    "\n",
    "jul_before = pd.read_csv('../data/july/july-early_after_tweets.csv')\n",
    "jul_during = pd.read_csv('../data/july/july-mid_during_tweets.csv')\n",
    "jul_after = pd.read_csv('../data/july/july-end_before_tweets.csv')"
   ]
  },
  {
   "cell_type": "code",
   "execution_count": 21,
   "metadata": {},
   "outputs": [],
   "source": [
    "# Concat CSVs:\n",
    "\n",
    "dfs = [bc_before, bc_during, bc_after, jan_before, jan_during, jan_after, jul_before, jul_during, jul_after]"
   ]
  },
  {
   "cell_type": "code",
   "execution_count": 22,
   "metadata": {},
   "outputs": [],
   "source": [
    "# Concatenate all data into one DataFrame:\n",
    "\n",
    "df = pd.concat(dfs, ignore_index=True)"
   ]
  },
  {
   "cell_type": "code",
   "execution_count": 23,
   "metadata": {},
   "outputs": [
    {
     "data": {
      "text/plain": [
       "(18000, 11)"
      ]
     },
     "execution_count": 23,
     "metadata": {},
     "output_type": "execute_result"
    }
   ],
   "source": [
    "df.shape"
   ]
  },
  {
   "cell_type": "code",
   "execution_count": 24,
   "metadata": {},
   "outputs": [],
   "source": [
    "# Write merged CSV:\n",
    "\n",
    "df.to_csv('../data/merged/merged_data_unclean.csv')"
   ]
  },
  {
   "cell_type": "code",
   "execution_count": 25,
   "metadata": {},
   "outputs": [
    {
     "data": {
      "text/html": [
       "<div>\n",
       "<style scoped>\n",
       "    .dataframe tbody tr th:only-of-type {\n",
       "        vertical-align: middle;\n",
       "    }\n",
       "\n",
       "    .dataframe tbody tr th {\n",
       "        vertical-align: top;\n",
       "    }\n",
       "\n",
       "    .dataframe thead th {\n",
       "        text-align: right;\n",
       "    }\n",
       "</style>\n",
       "<table border=\"1\" class=\"dataframe\">\n",
       "  <thead>\n",
       "    <tr style=\"text-align: right;\">\n",
       "      <th></th>\n",
       "      <th>Unnamed: 0</th>\n",
       "      <th>Event</th>\n",
       "      <th>Stage</th>\n",
       "      <th>Query Date</th>\n",
       "      <th>Query Term</th>\n",
       "      <th>Id</th>\n",
       "      <th>Username</th>\n",
       "      <th>Text</th>\n",
       "      <th>Date</th>\n",
       "      <th>Hashtags</th>\n",
       "      <th>Location</th>\n",
       "    </tr>\n",
       "  </thead>\n",
       "  <tbody>\n",
       "    <tr>\n",
       "      <th>0</th>\n",
       "      <td>0</td>\n",
       "      <td>ne_bomb_cyclone</td>\n",
       "      <td>before</td>\n",
       "      <td>2019-10-15</td>\n",
       "      <td>power outage</td>\n",
       "      <td>1183894397492043777</td>\n",
       "      <td>meekers999</td>\n",
       "      <td>Let's lose Govenor Gruesome in Cali please. He...</td>\n",
       "      <td>2019-10-14 23:56:34+00:00</td>\n",
       "      <td>NaN</td>\n",
       "      <td>NaN</td>\n",
       "    </tr>\n",
       "    <tr>\n",
       "      <th>1</th>\n",
       "      <td>1</td>\n",
       "      <td>ne_bomb_cyclone</td>\n",
       "      <td>before</td>\n",
       "      <td>2019-10-15</td>\n",
       "      <td>power outage</td>\n",
       "      <td>1183894362725289984</td>\n",
       "      <td>sharethiscrime</td>\n",
       "      <td>Last time I checked, he's still a floofy baby ...</td>\n",
       "      <td>2019-10-14 23:56:26+00:00</td>\n",
       "      <td>NaN</td>\n",
       "      <td>NaN</td>\n",
       "    </tr>\n",
       "    <tr>\n",
       "      <th>2</th>\n",
       "      <td>2</td>\n",
       "      <td>ne_bomb_cyclone</td>\n",
       "      <td>before</td>\n",
       "      <td>2019-10-15</td>\n",
       "      <td>power outage</td>\n",
       "      <td>1183894014573105152</td>\n",
       "      <td>News_1jl4</td>\n",
       "      <td>California’s power outage means problems for e...</td>\n",
       "      <td>2019-10-14 23:55:03+00:00</td>\n",
       "      <td>NaN</td>\n",
       "      <td>NaN</td>\n",
       "    </tr>\n",
       "    <tr>\n",
       "      <th>3</th>\n",
       "      <td>3</td>\n",
       "      <td>ne_bomb_cyclone</td>\n",
       "      <td>before</td>\n",
       "      <td>2019-10-15</td>\n",
       "      <td>power outage</td>\n",
       "      <td>1183893791415123968</td>\n",
       "      <td>IndeCardio</td>\n",
       "      <td>Newsome is vanguard Globalism in action! What ...</td>\n",
       "      <td>2019-10-14 23:54:10+00:00</td>\n",
       "      <td>NaN</td>\n",
       "      <td>NaN</td>\n",
       "    </tr>\n",
       "    <tr>\n",
       "      <th>4</th>\n",
       "      <td>4</td>\n",
       "      <td>ne_bomb_cyclone</td>\n",
       "      <td>before</td>\n",
       "      <td>2019-10-15</td>\n",
       "      <td>power outage</td>\n",
       "      <td>1183893732652810240</td>\n",
       "      <td>BaddictsPH</td>\n",
       "      <td>Super Typhoon Faxai hit Chiba prefecture in Se...</td>\n",
       "      <td>2019-10-14 23:53:56+00:00</td>\n",
       "      <td>NaN</td>\n",
       "      <td>NaN</td>\n",
       "    </tr>\n",
       "  </tbody>\n",
       "</table>\n",
       "</div>"
      ],
      "text/plain": [
       "   Unnamed: 0            Event   Stage  Query Date    Query Term  \\\n",
       "0           0  ne_bomb_cyclone  before  2019-10-15  power outage   \n",
       "1           1  ne_bomb_cyclone  before  2019-10-15  power outage   \n",
       "2           2  ne_bomb_cyclone  before  2019-10-15  power outage   \n",
       "3           3  ne_bomb_cyclone  before  2019-10-15  power outage   \n",
       "4           4  ne_bomb_cyclone  before  2019-10-15  power outage   \n",
       "\n",
       "                    Id        Username  \\\n",
       "0  1183894397492043777      meekers999   \n",
       "1  1183894362725289984  sharethiscrime   \n",
       "2  1183894014573105152       News_1jl4   \n",
       "3  1183893791415123968      IndeCardio   \n",
       "4  1183893732652810240      BaddictsPH   \n",
       "\n",
       "                                                Text  \\\n",
       "0  Let's lose Govenor Gruesome in Cali please. He...   \n",
       "1  Last time I checked, he's still a floofy baby ...   \n",
       "2  California’s power outage means problems for e...   \n",
       "3  Newsome is vanguard Globalism in action! What ...   \n",
       "4  Super Typhoon Faxai hit Chiba prefecture in Se...   \n",
       "\n",
       "                        Date Hashtags  Location  \n",
       "0  2019-10-14 23:56:34+00:00      NaN       NaN  \n",
       "1  2019-10-14 23:56:26+00:00      NaN       NaN  \n",
       "2  2019-10-14 23:55:03+00:00      NaN       NaN  \n",
       "3  2019-10-14 23:54:10+00:00      NaN       NaN  \n",
       "4  2019-10-14 23:53:56+00:00      NaN       NaN  "
      ]
     },
     "execution_count": 25,
     "metadata": {},
     "output_type": "execute_result"
    }
   ],
   "source": [
    "df.head()"
   ]
  },
  {
   "cell_type": "code",
   "execution_count": 26,
   "metadata": {},
   "outputs": [
    {
     "data": {
      "text/plain": [
       "ne_bomb_cyclone    6000\n",
       "january-mid        2000\n",
       "july-end           2000\n",
       "january-early      2000\n",
       "january-end        2000\n",
       "july-early         2000\n",
       "july-mid           2000\n",
       "Name: Event, dtype: int64"
      ]
     },
     "execution_count": 26,
     "metadata": {},
     "output_type": "execute_result"
    }
   ],
   "source": [
    "df['Event'].value_counts()"
   ]
  },
  {
   "cell_type": "code",
   "execution_count": null,
   "metadata": {},
   "outputs": [],
   "source": []
  },
  {
   "cell_type": "code",
   "execution_count": null,
   "metadata": {},
   "outputs": [],
   "source": []
  }
 ],
 "metadata": {
  "kernelspec": {
   "display_name": "Python 3",
   "language": "python",
   "name": "python3"
  },
  "language_info": {
   "codemirror_mode": {
    "name": "ipython",
    "version": 3
   },
   "file_extension": ".py",
   "mimetype": "text/x-python",
   "name": "python",
   "nbconvert_exporter": "python",
   "pygments_lexer": "ipython3",
   "version": "3.7.6"
  }
 },
 "nbformat": 4,
 "nbformat_minor": 4
}
