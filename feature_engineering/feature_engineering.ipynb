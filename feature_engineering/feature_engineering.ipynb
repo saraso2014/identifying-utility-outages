{
 "cells": [
  {
   "cell_type": "markdown",
   "metadata": {},
   "source": [
    "# Feature Engineering:"
   ]
  },
  {
   "cell_type": "markdown",
   "metadata": {},
   "source": [
    "This notebook details the generatino of features for the scraped data. \n",
    "Sections include:\n",
    "1. Importing and Merging Data:\n",
    "2. Generate Random Geometries for Tweets"
   ]
  },
  {
   "cell_type": "markdown",
   "metadata": {},
   "source": [
    "## 1. Import and Merge Data:"
   ]
  },
  {
   "cell_type": "code",
   "execution_count": 34,
   "metadata": {},
   "outputs": [],
   "source": [
    "# Import Libraries:\n",
    "\n",
    "import pandas as pd\n",
    "\n",
    "# ! pip install geopandas\n",
    "# ! pip install descartes\n",
    "import geopandas as gpd\n",
    "import descartes\n",
    "\n",
    "from shapely.geometry import Point\n",
    "import random\n",
    "\n",
    "# ! pip install geotext\n",
    "# ! pip install geopy\n",
    "\n",
    "from urllib import request\n",
    "from geotext import GeoText\n",
    "\n",
    "from geopy.geocoders import Nominatim\n",
    "from geopy.exc import GeocoderTimedOut"
   ]
  },
  {
   "cell_type": "code",
   "execution_count": 35,
   "metadata": {},
   "outputs": [],
   "source": [
    "# Read CSVs:\n",
    "\n",
    "bc_before = pd.read_csv('../data/ne bomb cyclone data w:o location/ne_bomb_cyclone_before_tweets.csv')\n",
    "bc_during = pd.read_csv('../data/ne bomb cyclone data w:o location/ne_bomb_cyclone_during_tweets.csv')\n",
    "bc_after  = pd.read_csv('../data/ne bomb cyclone data w:o location/ne_bomb_cyclone_after_tweets.csv')\n",
    "\n",
    "jan_before = pd.read_csv('../data/january/january-early_after_tweets.csv')\n",
    "jan_during = pd.read_csv('../data/january/january-mid_during_tweets.csv')\n",
    "jan_after = pd.read_csv('../data/january/january-end_before_tweets.csv')\n",
    "\n",
    "jul_before = pd.read_csv('../data/july/july-early_after_tweets.csv')\n",
    "jul_during = pd.read_csv('../data/july/july-mid_during_tweets.csv')\n",
    "jul_after = pd.read_csv('../data/july/july-end_before_tweets.csv')"
   ]
  },
  {
   "cell_type": "code",
   "execution_count": 36,
   "metadata": {},
   "outputs": [],
   "source": [
    "# Concat CSVs:\n",
    "\n",
    "dfs = [bc_before, bc_during, bc_after, jan_before, jan_during, jan_after, jul_before, jul_during, jul_after]"
   ]
  },
  {
   "cell_type": "code",
   "execution_count": 37,
   "metadata": {},
   "outputs": [],
   "source": [
    "# Concatenate all data into one DataFrame:\n",
    "\n",
    "df = pd.concat(dfs, ignore_index=True)"
   ]
  },
  {
   "cell_type": "code",
   "execution_count": 38,
   "metadata": {},
   "outputs": [
    {
     "data": {
      "text/plain": [
       "(18000, 11)"
      ]
     },
     "execution_count": 38,
     "metadata": {},
     "output_type": "execute_result"
    }
   ],
   "source": [
    "df.shape"
   ]
  },
  {
   "cell_type": "code",
   "execution_count": 39,
   "metadata": {},
   "outputs": [],
   "source": [
    "# Write merged CSV:\n",
    "\n",
    "df.to_csv('../data/merged/merged_data_unclean.csv')"
   ]
  },
  {
   "cell_type": "code",
   "execution_count": 40,
   "metadata": {},
   "outputs": [
    {
     "data": {
      "text/plain": [
       "ne_bomb_cyclone    6000\n",
       "july-end           2000\n",
       "july-mid           2000\n",
       "january-early      2000\n",
       "january-end        2000\n",
       "july-early         2000\n",
       "january-mid        2000\n",
       "Name: Event, dtype: int64"
      ]
     },
     "execution_count": 40,
     "metadata": {},
     "output_type": "execute_result"
    }
   ],
   "source": [
    "# Observe data:\n",
    "\n",
    "df['Event'].value_counts()"
   ]
  },
  {
   "cell_type": "markdown",
   "metadata": {},
   "source": [
    "## 2. Generate Random Synthetic Geometries for Tweets:"
   ]
  },
  {
   "cell_type": "code",
   "execution_count": 41,
   "metadata": {},
   "outputs": [
    {
     "data": {
      "image/png": "[encoded data removed]",
      "text/plain": [
       "<Figure size 432x288 with 1 Axes>"
      ]
     },
     "metadata": {
      "needs_background": "light"
     },
     "output_type": "display_data"
    }
   ],
   "source": [
    "# Import Shapefile of WMA from Census Tiger/Line Shapefiles:\n",
    "\n",
    "shp = gpd.read_file('../data/spatial_data/wma_gpkg.gpkg', layer = 'wma_gpkg')\n",
    "shp.plot();"
   ]
  },
  {
   "cell_type": "markdown",
   "metadata": {},
   "source": [
    "#### Random points were generated within the WMA shapefile using QGIS"
   ]
  },
  {
   "cell_type": "code",
   "execution_count": 48,
   "metadata": {},
   "outputs": [],
   "source": [
    "# Import CSV of randomly generated points in WMA:\n",
    "\n",
    "random_pts = pd.read_csv('../data/spatial_data/random_pts.csv')"
   ]
  },
  {
   "cell_type": "code",
   "execution_count": 49,
   "metadata": {},
   "outputs": [
    {
     "data": {
      "text/html": [
       "<div>\n",
       "<style scoped>\n",
       "    .dataframe tbody tr th:only-of-type {\n",
       "        vertical-align: middle;\n",
       "    }\n",
       "\n",
       "    .dataframe tbody tr th {\n",
       "        vertical-align: top;\n",
       "    }\n",
       "\n",
       "    .dataframe thead th {\n",
       "        text-align: right;\n",
       "    }\n",
       "</style>\n",
       "<table border=\"1\" class=\"dataframe\">\n",
       "  <thead>\n",
       "    <tr style=\"text-align: right;\">\n",
       "      <th></th>\n",
       "      <th>_wkt_geom</th>\n",
       "      <th>id</th>\n",
       "      <th>xcoord</th>\n",
       "      <th>ycoord</th>\n",
       "    </tr>\n",
       "  </thead>\n",
       "  <tbody>\n",
       "    <tr>\n",
       "      <th>0</th>\n",
       "      <td>Point (-77.58788778888725801 38.32415544020682...</td>\n",
       "      <td>17892</td>\n",
       "      <td>-77.587888</td>\n",
       "      <td>38.324155</td>\n",
       "    </tr>\n",
       "    <tr>\n",
       "      <th>1</th>\n",
       "      <td>Point (-76.48550640128354416 38.47508461690389...</td>\n",
       "      <td>17891</td>\n",
       "      <td>-76.485506</td>\n",
       "      <td>38.475085</td>\n",
       "    </tr>\n",
       "    <tr>\n",
       "      <th>2</th>\n",
       "      <td>Point (-77.41021456388132549 38.30670835924499...</td>\n",
       "      <td>17894</td>\n",
       "      <td>-77.410215</td>\n",
       "      <td>38.306708</td>\n",
       "    </tr>\n",
       "    <tr>\n",
       "      <th>3</th>\n",
       "      <td>Point (-77.79985279265937947 38.45514536776436...</td>\n",
       "      <td>17893</td>\n",
       "      <td>-77.799853</td>\n",
       "      <td>38.455145</td>\n",
       "    </tr>\n",
       "    <tr>\n",
       "      <th>4</th>\n",
       "      <td>Point (-77.83618103291209422 38.62109214538766...</td>\n",
       "      <td>17888</td>\n",
       "      <td>-77.836181</td>\n",
       "      <td>38.621092</td>\n",
       "    </tr>\n",
       "  </tbody>\n",
       "</table>\n",
       "</div>"
      ],
      "text/plain": [
       "                                           _wkt_geom     id     xcoord  \\\n",
       "0  Point (-77.58788778888725801 38.32415544020682...  17892 -77.587888   \n",
       "1  Point (-76.48550640128354416 38.47508461690389...  17891 -76.485506   \n",
       "2  Point (-77.41021456388132549 38.30670835924499...  17894 -77.410215   \n",
       "3  Point (-77.79985279265937947 38.45514536776436...  17893 -77.799853   \n",
       "4  Point (-77.83618103291209422 38.62109214538766...  17888 -77.836181   \n",
       "\n",
       "      ycoord  \n",
       "0  38.324155  \n",
       "1  38.475085  \n",
       "2  38.306708  \n",
       "3  38.455145  \n",
       "4  38.621092  "
      ]
     },
     "execution_count": 49,
     "metadata": {},
     "output_type": "execute_result"
    }
   ],
   "source": [
    "# Observe the random points:\n",
    "\n",
    "random_pts.head()"
   ]
  },
  {
   "cell_type": "code",
   "execution_count": 50,
   "metadata": {},
   "outputs": [
    {
     "data": {
      "text/plain": [
       "(18000, 4)"
      ]
     },
     "execution_count": 50,
     "metadata": {},
     "output_type": "execute_result"
    }
   ],
   "source": [
    "# Ensure shape of points matches shape of tweets\n",
    "\n",
    "random_pts.shape"
   ]
  },
  {
   "cell_type": "markdown",
   "metadata": {},
   "source": [
    "## 3. Join Synthetic Gemotry to Tweets"
   ]
  },
  {
   "cell_type": "code",
   "execution_count": 51,
   "metadata": {},
   "outputs": [],
   "source": [
    "# Append Random Points to Tweets:\n",
    "\n",
    "tweets_geom = pd.concat([df, random_pts], axis=1)"
   ]
  },
  {
   "cell_type": "code",
   "execution_count": 53,
   "metadata": {},
   "outputs": [
    {
     "data": {
      "text/html": [
       "<div>\n",
       "<style scoped>\n",
       "    .dataframe tbody tr th:only-of-type {\n",
       "        vertical-align: middle;\n",
       "    }\n",
       "\n",
       "    .dataframe tbody tr th {\n",
       "        vertical-align: top;\n",
       "    }\n",
       "\n",
       "    .dataframe thead th {\n",
       "        text-align: right;\n",
       "    }\n",
       "</style>\n",
       "<table border=\"1\" class=\"dataframe\">\n",
       "  <thead>\n",
       "    <tr style=\"text-align: right;\">\n",
       "      <th></th>\n",
       "      <th>Unnamed: 0</th>\n",
       "      <th>Event</th>\n",
       "      <th>Stage</th>\n",
       "      <th>Query Date</th>\n",
       "      <th>Query Term</th>\n",
       "      <th>Id</th>\n",
       "      <th>Username</th>\n",
       "      <th>Text</th>\n",
       "      <th>Date</th>\n",
       "      <th>Hashtags</th>\n",
       "      <th>Location</th>\n",
       "      <th>_wkt_geom</th>\n",
       "      <th>id</th>\n",
       "      <th>xcoord</th>\n",
       "      <th>ycoord</th>\n",
       "    </tr>\n",
       "  </thead>\n",
       "  <tbody>\n",
       "    <tr>\n",
       "      <th>0</th>\n",
       "      <td>0</td>\n",
       "      <td>ne_bomb_cyclone</td>\n",
       "      <td>before</td>\n",
       "      <td>2019-10-15</td>\n",
       "      <td>power outage</td>\n",
       "      <td>1183894397492043777</td>\n",
       "      <td>meekers999</td>\n",
       "      <td>Let's lose Govenor Gruesome in Cali please. He...</td>\n",
       "      <td>2019-10-14 23:56:34+00:00</td>\n",
       "      <td>NaN</td>\n",
       "      <td>NaN</td>\n",
       "      <td>Point (-77.58788778888725801 38.32415544020682...</td>\n",
       "      <td>17892</td>\n",
       "      <td>-77.587888</td>\n",
       "      <td>38.324155</td>\n",
       "    </tr>\n",
       "    <tr>\n",
       "      <th>1</th>\n",
       "      <td>1</td>\n",
       "      <td>ne_bomb_cyclone</td>\n",
       "      <td>before</td>\n",
       "      <td>2019-10-15</td>\n",
       "      <td>power outage</td>\n",
       "      <td>1183894362725289984</td>\n",
       "      <td>sharethiscrime</td>\n",
       "      <td>Last time I checked, he's still a floofy baby ...</td>\n",
       "      <td>2019-10-14 23:56:26+00:00</td>\n",
       "      <td>NaN</td>\n",
       "      <td>NaN</td>\n",
       "      <td>Point (-76.48550640128354416 38.47508461690389...</td>\n",
       "      <td>17891</td>\n",
       "      <td>-76.485506</td>\n",
       "      <td>38.475085</td>\n",
       "    </tr>\n",
       "  </tbody>\n",
       "</table>\n",
       "</div>"
      ],
      "text/plain": [
       "   Unnamed: 0            Event   Stage  Query Date    Query Term  \\\n",
       "0           0  ne_bomb_cyclone  before  2019-10-15  power outage   \n",
       "1           1  ne_bomb_cyclone  before  2019-10-15  power outage   \n",
       "\n",
       "                    Id        Username  \\\n",
       "0  1183894397492043777      meekers999   \n",
       "1  1183894362725289984  sharethiscrime   \n",
       "\n",
       "                                                Text  \\\n",
       "0  Let's lose Govenor Gruesome in Cali please. He...   \n",
       "1  Last time I checked, he's still a floofy baby ...   \n",
       "\n",
       "                        Date Hashtags  Location  \\\n",
       "0  2019-10-14 23:56:34+00:00      NaN       NaN   \n",
       "1  2019-10-14 23:56:26+00:00      NaN       NaN   \n",
       "\n",
       "                                           _wkt_geom     id     xcoord  \\\n",
       "0  Point (-77.58788778888725801 38.32415544020682...  17892 -77.587888   \n",
       "1  Point (-76.48550640128354416 38.47508461690389...  17891 -76.485506   \n",
       "\n",
       "      ycoord  \n",
       "0  38.324155  \n",
       "1  38.475085  "
      ]
     },
     "execution_count": 53,
     "metadata": {},
     "output_type": "execute_result"
    }
   ],
   "source": [
    "# Observe merged data:\n",
    "\n",
    "tweets_geom.head(2)"
   ]
  },
  {
   "cell_type": "code",
   "execution_count": 55,
   "metadata": {},
   "outputs": [
    {
     "data": {
      "text/plain": [
       "(18000, 15)"
      ]
     },
     "execution_count": 55,
     "metadata": {},
     "output_type": "execute_result"
    }
   ],
   "source": [
    "# Ensure consistent shape of merged data (18k rows):\n",
    "\n",
    "tweets_geom.shape"
   ]
  },
  {
   "cell_type": "markdown",
   "metadata": {},
   "source": [
    "## 4. Export Data with Geometry to CSV:"
   ]
  },
  {
   "cell_type": "code",
   "execution_count": 56,
   "metadata": {},
   "outputs": [],
   "source": [
    "# Export to data folder:\n",
    "\n",
    "tweets_geom.to_csv('../data/merged/tweets_geom_unclean.csv')"
   ]
  }
 ],
 "metadata": {
  "kernelspec": {
   "display_name": "Python 3",
   "language": "python",
   "name": "python3"
  },
  "language_info": {
   "codemirror_mode": {
    "name": "ipython",
    "version": 3
   },
   "file_extension": ".py",
   "mimetype": "text/x-python",
   "name": "python",
   "nbconvert_exporter": "python",
   "pygments_lexer": "ipython3",
   "version": "3.6.4"
  }
 },
 "nbformat": 4,
 "nbformat_minor": 4
}
