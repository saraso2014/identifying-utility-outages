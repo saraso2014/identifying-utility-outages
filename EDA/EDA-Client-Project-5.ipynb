{
 "cells": [
  {
   "cell_type": "markdown",
   "metadata": {},
   "source": [
    "# Client Project 5: EDA part"
   ]
  },
  {
   "cell_type": "code",
   "execution_count": null,
   "metadata": {},
   "outputs": [],
   "source": []
  },
  {
   "cell_type": "code",
   "execution_count": null,
   "metadata": {},
   "outputs": [],
   "source": []
  },
  {
   "cell_type": "code",
   "execution_count": 1,
   "metadata": {},
   "outputs": [
    {
     "name": "stderr",
     "output_type": "stream",
     "text": [
      "/Users/derejeworkneh/anaconda3/lib/python3.6/site-packages/sklearn/externals/six.py:31: FutureWarning: The module is deprecated in version 0.21 and will be removed in version 0.23 since we've dropped support for Python 2.7. Please rely on the official version of six (https://pypi.org/project/six/).\n",
      "  \"(https://pypi.org/project/six/).\", FutureWarning)\n"
     ]
    }
   ],
   "source": [
    "# importing Necessary Library\n",
    "import pandas as pd\n",
    "import numpy as np\n",
    "import scipy.stats as stats\n",
    "import seaborn as sns\n",
    "import matplotlib.pyplot as plt\n",
    "import requests\n",
    "import datetime\n",
    "import json\n",
    "import os\n",
    "from bs4 import BeautifulSoup\n",
    "from sklearn.linear_model import LogisticRegressionCV\n",
    "from sklearn.linear_model import LogisticRegression\n",
    "from sklearn.pipeline import Pipeline\n",
    "from sklearn.model_selection import train_test_split\n",
    "from sklearn import metrics\n",
    "from sklearn.neighbors import KNeighborsClassifier\n",
    "from sklearn.model_selection import cross_val_score, StratifiedKFold\n",
    "from sklearn.metrics import classification_report\n",
    "from sklearn.naive_bayes import MultinomialNB, BernoulliNB, GaussianNB\n",
    "from sklearn.metrics import classification_report,confusion_matrix,accuracy_score\n",
    "from sklearn.model_selection import GridSearchCV,RandomizedSearchCV\n",
    "from sklearn.tree import DecisionTreeClassifier\n",
    "from sklearn.ensemble import RandomForestClassifier, ExtraTreesClassifier, BaggingClassifier\n",
    "from sklearn.feature_extraction.text import HashingVectorizer, TfidfVectorizer, CountVectorizer\n",
    "from sklearn.metrics import roc_auc_score\n",
    "from sklearn.externals.six import StringIO \n",
    "from IPython.display import Image  \n",
    "from sklearn.tree import export_graphviz\n",
    "#import pydotplus\n",
    "\n",
    "\n",
    "\n",
    "#  Configure Visual setting \n",
    "sns.set_style('whitegrid')\n",
    "#plt.style.use(['bmh','presentation'])\n",
    "plt.rcParams['figure.figsize'] = (10.0, 8.0) \n",
    "plt.style.use('ggplot')\n",
    "np.random.seed(42)\n",
    "sns.set()\n",
    "%config InlineBackend.figure_format = 'retina'\n",
    "%matplotlib inline    "
   ]
  },
  {
   "cell_type": "markdown",
   "metadata": {},
   "source": [
    "#### 1 Load the Data"
   ]
  },
  {
   "cell_type": "markdown",
   "metadata": {},
   "source": [
    "#### Load in the the data of scraped results"
   ]
  },
  {
   "cell_type": "code",
   "execution_count": 2,
   "metadata": {},
   "outputs": [],
   "source": [
    "# Lets load the Concatenated DataFrame and the engine specification will help to delimit the outliers\n",
    "#df1 = pd.read_csv('./data/ne bomb cyclone data w:o location/ne_bomb_cyclone_before_tweets.csv',index_col ='Unnamed: 0' , engine='python')\n",
    "#df2 = pd.read_csv('./data/ne bomb cyclone data w:o location/ne_bomb_cyclone_during_tweets.csv',index_col ='Unnamed: 0' , engine='python')\n",
    "#df3 = pd.read_csv('./data/ne bomb cyclone data w:o location/ne_bomb_cyclone_after_tweets.csv',index_col ='Unnamed: 0' , engine='python')\n",
    "\n",
    "\n",
    "# To concatenate the three dataframes\n",
    "#frames = [df1,df2,df3]\n",
    "\n",
    "#df = pd.concat(frames)\n",
    "#df = pd.read_csv('Project3edapartone.csv',index_col ='Unnamed: 0' , engine='python')"
   ]
  },
  {
   "cell_type": "code",
   "execution_count": 3,
   "metadata": {},
   "outputs": [],
   "source": [
    "# Read CSVs:\n",
    "\n",
    "bc_before = pd.read_csv('./data/ne bomb cyclone data w:o location/ne_bomb_cyclone_before_tweets.csv')\n",
    "bc_during = pd.read_csv('./data/ne bomb cyclone data w:o location/ne_bomb_cyclone_during_tweets.csv')\n",
    "bc_after  = pd.read_csv('./data/ne bomb cyclone data w:o location/ne_bomb_cyclone_after_tweets.csv')\n",
    "\n",
    "jan_before = pd.read_csv('./data/january/january-early_after_tweets.csv')\n",
    "jan_during = pd.read_csv('./data/january/january-mid_during_tweets.csv')\n",
    "jan_after = pd.read_csv('./data/january/january-end_before_tweets.csv')\n",
    "\n",
    "jul_before = pd.read_csv('./data/july/july-early_after_tweets.csv')\n",
    "jul_during = pd.read_csv('./data/july/july-mid_during_tweets.csv')\n",
    "jul_after = pd.read_csv('./data/july/july-end_before_tweets.csv')"
   ]
  },
  {
   "cell_type": "code",
   "execution_count": 4,
   "metadata": {},
   "outputs": [],
   "source": [
    "# Concat CSVs:\n",
    "\n",
    "dfs = [bc_before, bc_during, bc_after, jan_before, jan_during, jan_after, jul_before, jul_during, jul_after]"
   ]
  },
  {
   "cell_type": "code",
   "execution_count": 5,
   "metadata": {},
   "outputs": [],
   "source": [
    "# Concatenate all data into one DataFrame:\n",
    "\n",
    "df = pd.concat(dfs, ignore_index=True)"
   ]
  },
  {
   "cell_type": "code",
   "execution_count": 6,
   "metadata": {},
   "outputs": [
    {
     "data": {
      "text/html": [
       "<div>\n",
       "<style scoped>\n",
       "    .dataframe tbody tr th:only-of-type {\n",
       "        vertical-align: middle;\n",
       "    }\n",
       "\n",
       "    .dataframe tbody tr th {\n",
       "        vertical-align: top;\n",
       "    }\n",
       "\n",
       "    .dataframe thead th {\n",
       "        text-align: right;\n",
       "    }\n",
       "</style>\n",
       "<table border=\"1\" class=\"dataframe\">\n",
       "  <thead>\n",
       "    <tr style=\"text-align: right;\">\n",
       "      <th></th>\n",
       "      <th>Unnamed: 0</th>\n",
       "      <th>Event</th>\n",
       "      <th>Stage</th>\n",
       "      <th>Query Date</th>\n",
       "      <th>Query Term</th>\n",
       "      <th>Id</th>\n",
       "      <th>Username</th>\n",
       "      <th>Text</th>\n",
       "      <th>Date</th>\n",
       "      <th>Hashtags</th>\n",
       "      <th>Location</th>\n",
       "    </tr>\n",
       "  </thead>\n",
       "  <tbody>\n",
       "    <tr>\n",
       "      <th>0</th>\n",
       "      <td>0</td>\n",
       "      <td>ne_bomb_cyclone</td>\n",
       "      <td>before</td>\n",
       "      <td>2019-10-15</td>\n",
       "      <td>power outage</td>\n",
       "      <td>1183894397492043777</td>\n",
       "      <td>meekers999</td>\n",
       "      <td>Let's lose Govenor Gruesome in Cali please. He...</td>\n",
       "      <td>2019-10-14 23:56:34+00:00</td>\n",
       "      <td>NaN</td>\n",
       "      <td>NaN</td>\n",
       "    </tr>\n",
       "    <tr>\n",
       "      <th>1</th>\n",
       "      <td>1</td>\n",
       "      <td>ne_bomb_cyclone</td>\n",
       "      <td>before</td>\n",
       "      <td>2019-10-15</td>\n",
       "      <td>power outage</td>\n",
       "      <td>1183894362725289984</td>\n",
       "      <td>sharethiscrime</td>\n",
       "      <td>Last time I checked, he's still a floofy baby ...</td>\n",
       "      <td>2019-10-14 23:56:26+00:00</td>\n",
       "      <td>NaN</td>\n",
       "      <td>NaN</td>\n",
       "    </tr>\n",
       "    <tr>\n",
       "      <th>2</th>\n",
       "      <td>2</td>\n",
       "      <td>ne_bomb_cyclone</td>\n",
       "      <td>before</td>\n",
       "      <td>2019-10-15</td>\n",
       "      <td>power outage</td>\n",
       "      <td>1183894014573105152</td>\n",
       "      <td>News_1jl4</td>\n",
       "      <td>California’s power outage means problems for e...</td>\n",
       "      <td>2019-10-14 23:55:03+00:00</td>\n",
       "      <td>NaN</td>\n",
       "      <td>NaN</td>\n",
       "    </tr>\n",
       "    <tr>\n",
       "      <th>3</th>\n",
       "      <td>3</td>\n",
       "      <td>ne_bomb_cyclone</td>\n",
       "      <td>before</td>\n",
       "      <td>2019-10-15</td>\n",
       "      <td>power outage</td>\n",
       "      <td>1183893791415123968</td>\n",
       "      <td>IndeCardio</td>\n",
       "      <td>Newsome is vanguard Globalism in action! What ...</td>\n",
       "      <td>2019-10-14 23:54:10+00:00</td>\n",
       "      <td>NaN</td>\n",
       "      <td>NaN</td>\n",
       "    </tr>\n",
       "    <tr>\n",
       "      <th>4</th>\n",
       "      <td>4</td>\n",
       "      <td>ne_bomb_cyclone</td>\n",
       "      <td>before</td>\n",
       "      <td>2019-10-15</td>\n",
       "      <td>power outage</td>\n",
       "      <td>1183893732652810240</td>\n",
       "      <td>BaddictsPH</td>\n",
       "      <td>Super Typhoon Faxai hit Chiba prefecture in Se...</td>\n",
       "      <td>2019-10-14 23:53:56+00:00</td>\n",
       "      <td>NaN</td>\n",
       "      <td>NaN</td>\n",
       "    </tr>\n",
       "  </tbody>\n",
       "</table>\n",
       "</div>"
      ],
      "text/plain": [
       "   Unnamed: 0            Event   Stage  Query Date    Query Term  \\\n",
       "0           0  ne_bomb_cyclone  before  2019-10-15  power outage   \n",
       "1           1  ne_bomb_cyclone  before  2019-10-15  power outage   \n",
       "2           2  ne_bomb_cyclone  before  2019-10-15  power outage   \n",
       "3           3  ne_bomb_cyclone  before  2019-10-15  power outage   \n",
       "4           4  ne_bomb_cyclone  before  2019-10-15  power outage   \n",
       "\n",
       "                    Id        Username  \\\n",
       "0  1183894397492043777      meekers999   \n",
       "1  1183894362725289984  sharethiscrime   \n",
       "2  1183894014573105152       News_1jl4   \n",
       "3  1183893791415123968      IndeCardio   \n",
       "4  1183893732652810240      BaddictsPH   \n",
       "\n",
       "                                                Text  \\\n",
       "0  Let's lose Govenor Gruesome in Cali please. He...   \n",
       "1  Last time I checked, he's still a floofy baby ...   \n",
       "2  California’s power outage means problems for e...   \n",
       "3  Newsome is vanguard Globalism in action! What ...   \n",
       "4  Super Typhoon Faxai hit Chiba prefecture in Se...   \n",
       "\n",
       "                        Date Hashtags  Location  \n",
       "0  2019-10-14 23:56:34+00:00      NaN       NaN  \n",
       "1  2019-10-14 23:56:26+00:00      NaN       NaN  \n",
       "2  2019-10-14 23:55:03+00:00      NaN       NaN  \n",
       "3  2019-10-14 23:54:10+00:00      NaN       NaN  \n",
       "4  2019-10-14 23:53:56+00:00      NaN       NaN  "
      ]
     },
     "execution_count": 6,
     "metadata": {},
     "output_type": "execute_result"
    }
   ],
   "source": [
    "df.head()"
   ]
  },
  {
   "cell_type": "markdown",
   "metadata": {},
   "source": [
    "##### 2.1 Checking the DataFrame basic Format and columns"
   ]
  },
  {
   "cell_type": "code",
   "execution_count": 7,
   "metadata": {},
   "outputs": [
    {
     "name": "stdout",
     "output_type": "stream",
     "text": [
      "   Unnamed: 0            Event   Stage  Query Date    Query Term  \\\n",
      "0           0  ne_bomb_cyclone  before  2019-10-15  power outage   \n",
      "1           1  ne_bomb_cyclone  before  2019-10-15  power outage   \n",
      "2           2  ne_bomb_cyclone  before  2019-10-15  power outage   \n",
      "3           3  ne_bomb_cyclone  before  2019-10-15  power outage   \n",
      "4           4  ne_bomb_cyclone  before  2019-10-15  power outage   \n",
      "\n",
      "                    Id        Username  \\\n",
      "0  1183894397492043777      meekers999   \n",
      "1  1183894362725289984  sharethiscrime   \n",
      "2  1183894014573105152       News_1jl4   \n",
      "3  1183893791415123968      IndeCardio   \n",
      "4  1183893732652810240      BaddictsPH   \n",
      "\n",
      "                                                Text  \\\n",
      "0  Let's lose Govenor Gruesome in Cali please. He...   \n",
      "1  Last time I checked, he's still a floofy baby ...   \n",
      "2  California’s power outage means problems for e...   \n",
      "3  Newsome is vanguard Globalism in action! What ...   \n",
      "4  Super Typhoon Faxai hit Chiba prefecture in Se...   \n",
      "\n",
      "                        Date Hashtags  Location  \n",
      "0  2019-10-14 23:56:34+00:00      NaN       NaN  \n",
      "1  2019-10-14 23:56:26+00:00      NaN       NaN  \n",
      "2  2019-10-14 23:55:03+00:00      NaN       NaN  \n",
      "3  2019-10-14 23:54:10+00:00      NaN       NaN  \n",
      "4  2019-10-14 23:53:56+00:00      NaN       NaN  \n",
      "(18000, 11)\n",
      "         Unnamed: 0            Id  Location\n",
      "count  18000.000000  1.800000e+04       0.0\n",
      "mean     999.500000  1.137373e+18       NaN\n",
      "std      577.366235  4.019824e+16       NaN\n",
      "min        0.000000  1.082440e+18       NaN\n",
      "25%      499.750000  1.089777e+18       NaN\n",
      "50%      999.500000  1.141209e+18       NaN\n",
      "75%     1499.250000  1.183792e+18       NaN\n",
      "max     1999.000000  1.185705e+18       NaN\n"
     ]
    }
   ],
   "source": [
    "# print out the  size of the data and the number of rows and columns\n",
    "print(df.head())\n",
    "print(df.shape)\n",
    "print(df.describe())"
   ]
  },
  {
   "cell_type": "markdown",
   "metadata": {},
   "source": [
    "##### 2.2. Determining Missing observations"
   ]
  },
  {
   "cell_type": "code",
   "execution_count": 8,
   "metadata": {},
   "outputs": [
    {
     "data": {
      "text/plain": [
       "Unnamed: 0        0\n",
       "Event             0\n",
       "Stage             0\n",
       "Query Date        0\n",
       "Query Term        0\n",
       "Id                0\n",
       "Username          0\n",
       "Text              0\n",
       "Date              0\n",
       "Hashtags      14338\n",
       "Location      18000\n",
       "dtype: int64"
      ]
     },
     "execution_count": 8,
     "metadata": {},
     "output_type": "execute_result"
    }
   ],
   "source": [
    "df.isnull().sum()"
   ]
  },
  {
   "cell_type": "code",
   "execution_count": 13,
   "metadata": {},
   "outputs": [],
   "source": [
    "df1 = df.dropna(axis=1)"
   ]
  },
  {
   "cell_type": "code",
   "execution_count": 11,
   "metadata": {},
   "outputs": [],
   "source": [
    "# Given the very small amount of missing data, drop the missing values.\n",
    "# df.dropna(inplace = True)"
   ]
  },
  {
   "cell_type": "code",
   "execution_count": 15,
   "metadata": {},
   "outputs": [
    {
     "data": {
      "text/html": [
       "<div>\n",
       "<style scoped>\n",
       "    .dataframe tbody tr th:only-of-type {\n",
       "        vertical-align: middle;\n",
       "    }\n",
       "\n",
       "    .dataframe tbody tr th {\n",
       "        vertical-align: top;\n",
       "    }\n",
       "\n",
       "    .dataframe thead th {\n",
       "        text-align: right;\n",
       "    }\n",
       "</style>\n",
       "<table border=\"1\" class=\"dataframe\">\n",
       "  <thead>\n",
       "    <tr style=\"text-align: right;\">\n",
       "      <th></th>\n",
       "      <th>Unnamed: 0</th>\n",
       "      <th>Event</th>\n",
       "      <th>Stage</th>\n",
       "      <th>Query Date</th>\n",
       "      <th>Query Term</th>\n",
       "      <th>Id</th>\n",
       "      <th>Username</th>\n",
       "      <th>Text</th>\n",
       "      <th>Date</th>\n",
       "    </tr>\n",
       "  </thead>\n",
       "  <tbody>\n",
       "    <tr>\n",
       "      <th>0</th>\n",
       "      <td>0</td>\n",
       "      <td>ne_bomb_cyclone</td>\n",
       "      <td>before</td>\n",
       "      <td>2019-10-15</td>\n",
       "      <td>power outage</td>\n",
       "      <td>1183894397492043777</td>\n",
       "      <td>meekers999</td>\n",
       "      <td>Let's lose Govenor Gruesome in Cali please. He...</td>\n",
       "      <td>2019-10-14 23:56:34+00:00</td>\n",
       "    </tr>\n",
       "    <tr>\n",
       "      <th>1</th>\n",
       "      <td>1</td>\n",
       "      <td>ne_bomb_cyclone</td>\n",
       "      <td>before</td>\n",
       "      <td>2019-10-15</td>\n",
       "      <td>power outage</td>\n",
       "      <td>1183894362725289984</td>\n",
       "      <td>sharethiscrime</td>\n",
       "      <td>Last time I checked, he's still a floofy baby ...</td>\n",
       "      <td>2019-10-14 23:56:26+00:00</td>\n",
       "    </tr>\n",
       "    <tr>\n",
       "      <th>2</th>\n",
       "      <td>2</td>\n",
       "      <td>ne_bomb_cyclone</td>\n",
       "      <td>before</td>\n",
       "      <td>2019-10-15</td>\n",
       "      <td>power outage</td>\n",
       "      <td>1183894014573105152</td>\n",
       "      <td>News_1jl4</td>\n",
       "      <td>California’s power outage means problems for e...</td>\n",
       "      <td>2019-10-14 23:55:03+00:00</td>\n",
       "    </tr>\n",
       "    <tr>\n",
       "      <th>3</th>\n",
       "      <td>3</td>\n",
       "      <td>ne_bomb_cyclone</td>\n",
       "      <td>before</td>\n",
       "      <td>2019-10-15</td>\n",
       "      <td>power outage</td>\n",
       "      <td>1183893791415123968</td>\n",
       "      <td>IndeCardio</td>\n",
       "      <td>Newsome is vanguard Globalism in action! What ...</td>\n",
       "      <td>2019-10-14 23:54:10+00:00</td>\n",
       "    </tr>\n",
       "    <tr>\n",
       "      <th>4</th>\n",
       "      <td>4</td>\n",
       "      <td>ne_bomb_cyclone</td>\n",
       "      <td>before</td>\n",
       "      <td>2019-10-15</td>\n",
       "      <td>power outage</td>\n",
       "      <td>1183893732652810240</td>\n",
       "      <td>BaddictsPH</td>\n",
       "      <td>Super Typhoon Faxai hit Chiba prefecture in Se...</td>\n",
       "      <td>2019-10-14 23:53:56+00:00</td>\n",
       "    </tr>\n",
       "  </tbody>\n",
       "</table>\n",
       "</div>"
      ],
      "text/plain": [
       "   Unnamed: 0            Event   Stage  Query Date    Query Term  \\\n",
       "0           0  ne_bomb_cyclone  before  2019-10-15  power outage   \n",
       "1           1  ne_bomb_cyclone  before  2019-10-15  power outage   \n",
       "2           2  ne_bomb_cyclone  before  2019-10-15  power outage   \n",
       "3           3  ne_bomb_cyclone  before  2019-10-15  power outage   \n",
       "4           4  ne_bomb_cyclone  before  2019-10-15  power outage   \n",
       "\n",
       "                    Id        Username  \\\n",
       "0  1183894397492043777      meekers999   \n",
       "1  1183894362725289984  sharethiscrime   \n",
       "2  1183894014573105152       News_1jl4   \n",
       "3  1183893791415123968      IndeCardio   \n",
       "4  1183893732652810240      BaddictsPH   \n",
       "\n",
       "                                                Text  \\\n",
       "0  Let's lose Govenor Gruesome in Cali please. He...   \n",
       "1  Last time I checked, he's still a floofy baby ...   \n",
       "2  California’s power outage means problems for e...   \n",
       "3  Newsome is vanguard Globalism in action! What ...   \n",
       "4  Super Typhoon Faxai hit Chiba prefecture in Se...   \n",
       "\n",
       "                        Date  \n",
       "0  2019-10-14 23:56:34+00:00  \n",
       "1  2019-10-14 23:56:26+00:00  \n",
       "2  2019-10-14 23:55:03+00:00  \n",
       "3  2019-10-14 23:54:10+00:00  \n",
       "4  2019-10-14 23:53:56+00:00  "
      ]
     },
     "execution_count": 15,
     "metadata": {},
     "output_type": "execute_result"
    }
   ],
   "source": [
    "df1.head(5)"
   ]
  },
  {
   "cell_type": "code",
   "execution_count": 16,
   "metadata": {},
   "outputs": [
    {
     "data": {
      "text/html": [
       "<div>\n",
       "<style scoped>\n",
       "    .dataframe tbody tr th:only-of-type {\n",
       "        vertical-align: middle;\n",
       "    }\n",
       "\n",
       "    .dataframe tbody tr th {\n",
       "        vertical-align: top;\n",
       "    }\n",
       "\n",
       "    .dataframe thead th {\n",
       "        text-align: right;\n",
       "    }\n",
       "</style>\n",
       "<table border=\"1\" class=\"dataframe\">\n",
       "  <thead>\n",
       "    <tr style=\"text-align: right;\">\n",
       "      <th></th>\n",
       "      <th>Unnamed: 0</th>\n",
       "      <th>Event</th>\n",
       "      <th>Stage</th>\n",
       "      <th>Query Date</th>\n",
       "      <th>Query Term</th>\n",
       "      <th>Id</th>\n",
       "      <th>Username</th>\n",
       "      <th>Text</th>\n",
       "      <th>Date</th>\n",
       "    </tr>\n",
       "  </thead>\n",
       "  <tbody>\n",
       "    <tr>\n",
       "      <th>17995</th>\n",
       "      <td>1995</td>\n",
       "      <td>july-end</td>\n",
       "      <td>before</td>\n",
       "      <td>2019-06-30</td>\n",
       "      <td>power outage</td>\n",
       "      <td>1144415045637402624</td>\n",
       "      <td>RisingDarkstar</td>\n",
       "      <td>My boys are so trained.... There has been a wi...</td>\n",
       "      <td>2019-06-28 01:19:43+00:00</td>\n",
       "    </tr>\n",
       "    <tr>\n",
       "      <th>17996</th>\n",
       "      <td>1996</td>\n",
       "      <td>july-end</td>\n",
       "      <td>before</td>\n",
       "      <td>2019-06-30</td>\n",
       "      <td>power outage</td>\n",
       "      <td>1144414002644230144</td>\n",
       "      <td>qt_alexandria</td>\n",
       "      <td>The way these power outages set up it makes me...</td>\n",
       "      <td>2019-06-28 01:15:35+00:00</td>\n",
       "    </tr>\n",
       "    <tr>\n",
       "      <th>17997</th>\n",
       "      <td>1997</td>\n",
       "      <td>july-end</td>\n",
       "      <td>before</td>\n",
       "      <td>2019-06-30</td>\n",
       "      <td>power outage</td>\n",
       "      <td>1144413949745455104</td>\n",
       "      <td>SayNoToArsenal</td>\n",
       "      <td>There's a power outage? Welp.</td>\n",
       "      <td>2019-06-28 01:15:22+00:00</td>\n",
       "    </tr>\n",
       "    <tr>\n",
       "      <th>17998</th>\n",
       "      <td>1998</td>\n",
       "      <td>july-end</td>\n",
       "      <td>before</td>\n",
       "      <td>2019-06-30</td>\n",
       "      <td>power outage</td>\n",
       "      <td>1144413604881375232</td>\n",
       "      <td>CarGenerator1</td>\n",
       "      <td>Buy a CarGenerator for just a fraction of what...</td>\n",
       "      <td>2019-06-28 01:14:00+00:00</td>\n",
       "    </tr>\n",
       "    <tr>\n",
       "      <th>17999</th>\n",
       "      <td>1999</td>\n",
       "      <td>july-end</td>\n",
       "      <td>before</td>\n",
       "      <td>2019-06-30</td>\n",
       "      <td>power outage</td>\n",
       "      <td>1144413206481461248</td>\n",
       "      <td>XcelEnergyCO</td>\n",
       "      <td>Please direct message us your full service add...</td>\n",
       "      <td>2019-06-28 01:12:25+00:00</td>\n",
       "    </tr>\n",
       "  </tbody>\n",
       "</table>\n",
       "</div>"
      ],
      "text/plain": [
       "       Unnamed: 0     Event   Stage  Query Date    Query Term  \\\n",
       "17995        1995  july-end  before  2019-06-30  power outage   \n",
       "17996        1996  july-end  before  2019-06-30  power outage   \n",
       "17997        1997  july-end  before  2019-06-30  power outage   \n",
       "17998        1998  july-end  before  2019-06-30  power outage   \n",
       "17999        1999  july-end  before  2019-06-30  power outage   \n",
       "\n",
       "                        Id        Username  \\\n",
       "17995  1144415045637402624  RisingDarkstar   \n",
       "17996  1144414002644230144   qt_alexandria   \n",
       "17997  1144413949745455104  SayNoToArsenal   \n",
       "17998  1144413604881375232   CarGenerator1   \n",
       "17999  1144413206481461248    XcelEnergyCO   \n",
       "\n",
       "                                                    Text  \\\n",
       "17995  My boys are so trained.... There has been a wi...   \n",
       "17996  The way these power outages set up it makes me...   \n",
       "17997                      There's a power outage? Welp.   \n",
       "17998  Buy a CarGenerator for just a fraction of what...   \n",
       "17999  Please direct message us your full service add...   \n",
       "\n",
       "                            Date  \n",
       "17995  2019-06-28 01:19:43+00:00  \n",
       "17996  2019-06-28 01:15:35+00:00  \n",
       "17997  2019-06-28 01:15:22+00:00  \n",
       "17998  2019-06-28 01:14:00+00:00  \n",
       "17999  2019-06-28 01:12:25+00:00  "
      ]
     },
     "execution_count": 16,
     "metadata": {},
     "output_type": "execute_result"
    }
   ],
   "source": [
    "df1.tail(5)"
   ]
  },
  {
   "cell_type": "code",
   "execution_count": null,
   "metadata": {},
   "outputs": [],
   "source": []
  },
  {
   "cell_type": "code",
   "execution_count": 17,
   "metadata": {},
   "outputs": [
    {
     "data": {
      "text/plain": [
       "Unnamed: 0    0\n",
       "Event         0\n",
       "Stage         0\n",
       "Query Date    0\n",
       "Query Term    0\n",
       "Id            0\n",
       "Username      0\n",
       "Text          0\n",
       "Date          0\n",
       "dtype: int64"
      ]
     },
     "execution_count": 17,
     "metadata": {},
     "output_type": "execute_result"
    }
   ],
   "source": [
    "df1.isnull().sum()"
   ]
  },
  {
   "cell_type": "code",
   "execution_count": 18,
   "metadata": {},
   "outputs": [
    {
     "name": "stdout",
     "output_type": "stream",
     "text": [
      "<class 'pandas.core.frame.DataFrame'>\n",
      "RangeIndex: 18000 entries, 0 to 17999\n",
      "Data columns (total 9 columns):\n",
      " #   Column      Non-Null Count  Dtype \n",
      "---  ------      --------------  ----- \n",
      " 0   Unnamed: 0  18000 non-null  int64 \n",
      " 1   Event       18000 non-null  object\n",
      " 2   Stage       18000 non-null  object\n",
      " 3   Query Date  18000 non-null  object\n",
      " 4   Query Term  18000 non-null  object\n",
      " 5   Id          18000 non-null  int64 \n",
      " 6   Username    18000 non-null  object\n",
      " 7   Text        18000 non-null  object\n",
      " 8   Date        18000 non-null  object\n",
      "dtypes: int64(2), object(7)\n",
      "memory usage: 1.2+ MB\n"
     ]
    }
   ],
   "source": [
    "df1.info()"
   ]
  },
  {
   "cell_type": "code",
   "execution_count": 19,
   "metadata": {},
   "outputs": [
    {
     "data": {
      "text/plain": [
       "(18000, 9)"
      ]
     },
     "execution_count": 19,
     "metadata": {},
     "output_type": "execute_result"
    }
   ],
   "source": [
    "df1.shape"
   ]
  },
  {
   "cell_type": "code",
   "execution_count": 20,
   "metadata": {},
   "outputs": [],
   "source": [
    "corr = df1.corr()\n"
   ]
  },
  {
   "cell_type": "code",
   "execution_count": 21,
   "metadata": {},
   "outputs": [
    {
     "data": {
      "image/png": "[encoded data removed]",
      "text/plain": [
       "<Figure size 1296x864 with 2 Axes>"
      ]
     },
     "metadata": {
      "image/png": {
       "height": 690,
       "width": 945
      },
      "needs_background": "light"
     },
     "output_type": "display_data"
    }
   ],
   "source": [
    "plt.figure(figsize=(18,12))\n",
    "\n",
    "sns.heatmap(corr,\n",
    "            annot=True);"
   ]
  },
  {
   "cell_type": "code",
   "execution_count": null,
   "metadata": {},
   "outputs": [],
   "source": []
  },
  {
   "cell_type": "code",
   "execution_count": 22,
   "metadata": {},
   "outputs": [
    {
     "data": {
      "text/plain": [
       "Date          0.0\n",
       "Text          0.0\n",
       "Username      0.0\n",
       "Id            0.0\n",
       "Query Term    0.0\n",
       "Query Date    0.0\n",
       "Stage         0.0\n",
       "Event         0.0\n",
       "Unnamed: 0    0.0\n",
       "dtype: float64"
      ]
     },
     "execution_count": 22,
     "metadata": {},
     "output_type": "execute_result"
    }
   ],
   "source": [
    "# Checking missing values `.isnull() will convert to the boolean True and False and return new DataFrame where null values\n",
    "# are indicated by True and the .sum() will give us the total numbel of null values per column.\n",
    "# checking the null values in the DF , according to Ben this is the fancy one\n",
    "(df1.isnull().sum() / df1.shape[0]).sort_values(ascending=False)   # credit Ben shaver"
   ]
  },
  {
   "cell_type": "markdown",
   "metadata": {},
   "source": [
    "#####  2.3. Describing the summary statistics of the columns"
   ]
  },
  {
   "cell_type": "code",
   "execution_count": 23,
   "metadata": {},
   "outputs": [
    {
     "data": {
      "text/html": [
       "<div>\n",
       "<style scoped>\n",
       "    .dataframe tbody tr th:only-of-type {\n",
       "        vertical-align: middle;\n",
       "    }\n",
       "\n",
       "    .dataframe tbody tr th {\n",
       "        vertical-align: top;\n",
       "    }\n",
       "\n",
       "    .dataframe thead th {\n",
       "        text-align: right;\n",
       "    }\n",
       "</style>\n",
       "<table border=\"1\" class=\"dataframe\">\n",
       "  <thead>\n",
       "    <tr style=\"text-align: right;\">\n",
       "      <th></th>\n",
       "      <th>Unnamed: 0</th>\n",
       "      <th>Event</th>\n",
       "      <th>Stage</th>\n",
       "      <th>Query Date</th>\n",
       "      <th>Query Term</th>\n",
       "      <th>Id</th>\n",
       "      <th>Username</th>\n",
       "      <th>Text</th>\n",
       "      <th>Date</th>\n",
       "    </tr>\n",
       "  </thead>\n",
       "  <tbody>\n",
       "    <tr>\n",
       "      <th>0</th>\n",
       "      <td>0</td>\n",
       "      <td>ne_bomb_cyclone</td>\n",
       "      <td>before</td>\n",
       "      <td>2019-10-15</td>\n",
       "      <td>power outage</td>\n",
       "      <td>1183894397492043777</td>\n",
       "      <td>meekers999</td>\n",
       "      <td>Let's lose Govenor Gruesome in Cali please. He...</td>\n",
       "      <td>2019-10-14 23:56:34+00:00</td>\n",
       "    </tr>\n",
       "    <tr>\n",
       "      <th>1</th>\n",
       "      <td>1</td>\n",
       "      <td>ne_bomb_cyclone</td>\n",
       "      <td>before</td>\n",
       "      <td>2019-10-15</td>\n",
       "      <td>power outage</td>\n",
       "      <td>1183894362725289984</td>\n",
       "      <td>sharethiscrime</td>\n",
       "      <td>Last time I checked, he's still a floofy baby ...</td>\n",
       "      <td>2019-10-14 23:56:26+00:00</td>\n",
       "    </tr>\n",
       "    <tr>\n",
       "      <th>2</th>\n",
       "      <td>2</td>\n",
       "      <td>ne_bomb_cyclone</td>\n",
       "      <td>before</td>\n",
       "      <td>2019-10-15</td>\n",
       "      <td>power outage</td>\n",
       "      <td>1183894014573105152</td>\n",
       "      <td>News_1jl4</td>\n",
       "      <td>California’s power outage means problems for e...</td>\n",
       "      <td>2019-10-14 23:55:03+00:00</td>\n",
       "    </tr>\n",
       "    <tr>\n",
       "      <th>3</th>\n",
       "      <td>3</td>\n",
       "      <td>ne_bomb_cyclone</td>\n",
       "      <td>before</td>\n",
       "      <td>2019-10-15</td>\n",
       "      <td>power outage</td>\n",
       "      <td>1183893791415123968</td>\n",
       "      <td>IndeCardio</td>\n",
       "      <td>Newsome is vanguard Globalism in action! What ...</td>\n",
       "      <td>2019-10-14 23:54:10+00:00</td>\n",
       "    </tr>\n",
       "    <tr>\n",
       "      <th>4</th>\n",
       "      <td>4</td>\n",
       "      <td>ne_bomb_cyclone</td>\n",
       "      <td>before</td>\n",
       "      <td>2019-10-15</td>\n",
       "      <td>power outage</td>\n",
       "      <td>1183893732652810240</td>\n",
       "      <td>BaddictsPH</td>\n",
       "      <td>Super Typhoon Faxai hit Chiba prefecture in Se...</td>\n",
       "      <td>2019-10-14 23:53:56+00:00</td>\n",
       "    </tr>\n",
       "  </tbody>\n",
       "</table>\n",
       "</div>"
      ],
      "text/plain": [
       "   Unnamed: 0            Event   Stage  Query Date    Query Term  \\\n",
       "0           0  ne_bomb_cyclone  before  2019-10-15  power outage   \n",
       "1           1  ne_bomb_cyclone  before  2019-10-15  power outage   \n",
       "2           2  ne_bomb_cyclone  before  2019-10-15  power outage   \n",
       "3           3  ne_bomb_cyclone  before  2019-10-15  power outage   \n",
       "4           4  ne_bomb_cyclone  before  2019-10-15  power outage   \n",
       "\n",
       "                    Id        Username  \\\n",
       "0  1183894397492043777      meekers999   \n",
       "1  1183894362725289984  sharethiscrime   \n",
       "2  1183894014573105152       News_1jl4   \n",
       "3  1183893791415123968      IndeCardio   \n",
       "4  1183893732652810240      BaddictsPH   \n",
       "\n",
       "                                                Text  \\\n",
       "0  Let's lose Govenor Gruesome in Cali please. He...   \n",
       "1  Last time I checked, he's still a floofy baby ...   \n",
       "2  California’s power outage means problems for e...   \n",
       "3  Newsome is vanguard Globalism in action! What ...   \n",
       "4  Super Typhoon Faxai hit Chiba prefecture in Se...   \n",
       "\n",
       "                        Date  \n",
       "0  2019-10-14 23:56:34+00:00  \n",
       "1  2019-10-14 23:56:26+00:00  \n",
       "2  2019-10-14 23:55:03+00:00  \n",
       "3  2019-10-14 23:54:10+00:00  \n",
       "4  2019-10-14 23:53:56+00:00  "
      ]
     },
     "execution_count": 23,
     "metadata": {},
     "output_type": "execute_result"
    }
   ],
   "source": [
    "df1.head()"
   ]
  },
  {
   "cell_type": "code",
   "execution_count": 24,
   "metadata": {},
   "outputs": [
    {
     "data": {
      "text/html": [
       "<div>\n",
       "<style scoped>\n",
       "    .dataframe tbody tr th:only-of-type {\n",
       "        vertical-align: middle;\n",
       "    }\n",
       "\n",
       "    .dataframe tbody tr th {\n",
       "        vertical-align: top;\n",
       "    }\n",
       "\n",
       "    .dataframe thead th {\n",
       "        text-align: right;\n",
       "    }\n",
       "</style>\n",
       "<table border=\"1\" class=\"dataframe\">\n",
       "  <thead>\n",
       "    <tr style=\"text-align: right;\">\n",
       "      <th></th>\n",
       "      <th>count</th>\n",
       "      <th>mean</th>\n",
       "      <th>std</th>\n",
       "      <th>min</th>\n",
       "      <th>25%</th>\n",
       "      <th>50%</th>\n",
       "      <th>75%</th>\n",
       "      <th>max</th>\n",
       "    </tr>\n",
       "  </thead>\n",
       "  <tbody>\n",
       "    <tr>\n",
       "      <th>Unnamed: 0</th>\n",
       "      <td>18000.0</td>\n",
       "      <td>9.995000e+02</td>\n",
       "      <td>5.773662e+02</td>\n",
       "      <td>0.000000e+00</td>\n",
       "      <td>4.997500e+02</td>\n",
       "      <td>9.995000e+02</td>\n",
       "      <td>1.499250e+03</td>\n",
       "      <td>1.999000e+03</td>\n",
       "    </tr>\n",
       "    <tr>\n",
       "      <th>Id</th>\n",
       "      <td>18000.0</td>\n",
       "      <td>1.137373e+18</td>\n",
       "      <td>4.019824e+16</td>\n",
       "      <td>1.082440e+18</td>\n",
       "      <td>1.089777e+18</td>\n",
       "      <td>1.141209e+18</td>\n",
       "      <td>1.183792e+18</td>\n",
       "      <td>1.185705e+18</td>\n",
       "    </tr>\n",
       "  </tbody>\n",
       "</table>\n",
       "</div>"
      ],
      "text/plain": [
       "              count          mean           std           min           25%  \\\n",
       "Unnamed: 0  18000.0  9.995000e+02  5.773662e+02  0.000000e+00  4.997500e+02   \n",
       "Id          18000.0  1.137373e+18  4.019824e+16  1.082440e+18  1.089777e+18   \n",
       "\n",
       "                     50%           75%           max  \n",
       "Unnamed: 0  9.995000e+02  1.499250e+03  1.999000e+03  \n",
       "Id          1.141209e+18  1.183792e+18  1.185705e+18  "
      ]
     },
     "execution_count": 24,
     "metadata": {},
     "output_type": "execute_result"
    }
   ],
   "source": [
    "# the describe function gives summary statistics for each variable\n",
    "df1.describe().T"
   ]
  },
  {
   "cell_type": "code",
   "execution_count": 19,
   "metadata": {},
   "outputs": [],
   "source": [
    "# sns.distplot(df, kde = True)"
   ]
  },
  {
   "cell_type": "markdown",
   "metadata": {},
   "source": [
    "##### 2.4.  Feature Engineering/ Exploring the Target Variable"
   ]
  },
  {
   "cell_type": "code",
   "execution_count": 25,
   "metadata": {},
   "outputs": [
    {
     "data": {
      "text/plain": [
       "16646"
      ]
     },
     "execution_count": 25,
     "metadata": {},
     "output_type": "execute_result"
    }
   ],
   "source": [
    "#checking the number of unique titles in the data set\n",
    "len(df1['Text'].unique())"
   ]
  },
  {
   "cell_type": "code",
   "execution_count": 27,
   "metadata": {},
   "outputs": [
    {
     "data": {
      "text/plain": [
       "['Let\\'s lose Govenor Gruesome in Cali please. He just ordered the shut down of all mountain top ham radio repeaters. That means \"no emergency communications\" will be available during say.. a power outage ands mass fires. He\\'s trying to kill you.',\n",
       " \"Last time I checked, he's still a floofy baby complaining about power outage \",\n",
       " 'California’s power outage means problems for electric cars.. Washingtonpost - Twitter - News - Noticias - Bitcoin - CryptoCurrency - @InvestCrypForex - @1jl4com - @Health14Fitness - @Marketing_1jl4 - @News_1jl4 &gt;']"
      ]
     },
     "execution_count": 27,
     "metadata": {},
     "output_type": "execute_result"
    }
   ],
   "source": [
    "x = list(df1['Text'].head(3))   # calling the five titles as list from the DF\n",
    "x"
   ]
  },
  {
   "cell_type": "code",
   "execution_count": 28,
   "metadata": {},
   "outputs": [
    {
     "data": {
      "text/plain": [
       "0"
      ]
     },
     "execution_count": 28,
     "metadata": {},
     "output_type": "execute_result"
    }
   ],
   "source": [
    "# there are some duplicate comments, mostly automated comments by moderators\n",
    "\n",
    "df1.duplicated().sum()"
   ]
  },
  {
   "cell_type": "code",
   "execution_count": 29,
   "metadata": {},
   "outputs": [
    {
     "data": {
      "text/html": [
       "<div>\n",
       "<style scoped>\n",
       "    .dataframe tbody tr th:only-of-type {\n",
       "        vertical-align: middle;\n",
       "    }\n",
       "\n",
       "    .dataframe tbody tr th {\n",
       "        vertical-align: top;\n",
       "    }\n",
       "\n",
       "    .dataframe thead th {\n",
       "        text-align: right;\n",
       "    }\n",
       "</style>\n",
       "<table border=\"1\" class=\"dataframe\">\n",
       "  <thead>\n",
       "    <tr style=\"text-align: right;\">\n",
       "      <th></th>\n",
       "      <th>Unnamed: 0</th>\n",
       "      <th>Event</th>\n",
       "      <th>Stage</th>\n",
       "      <th>Query Date</th>\n",
       "      <th>Query Term</th>\n",
       "      <th>Id</th>\n",
       "      <th>Username</th>\n",
       "      <th>Text</th>\n",
       "      <th>Date</th>\n",
       "    </tr>\n",
       "  </thead>\n",
       "  <tbody>\n",
       "    <tr>\n",
       "      <th>0</th>\n",
       "      <td>0</td>\n",
       "      <td>ne_bomb_cyclone</td>\n",
       "      <td>before</td>\n",
       "      <td>2019-10-15</td>\n",
       "      <td>power outage</td>\n",
       "      <td>1183894397492043777</td>\n",
       "      <td>meekers999</td>\n",
       "      <td>Let's lose Govenor Gruesome in Cali please. He...</td>\n",
       "      <td>2019-10-14 23:56:34+00:00</td>\n",
       "    </tr>\n",
       "    <tr>\n",
       "      <th>1</th>\n",
       "      <td>1</td>\n",
       "      <td>ne_bomb_cyclone</td>\n",
       "      <td>before</td>\n",
       "      <td>2019-10-15</td>\n",
       "      <td>power outage</td>\n",
       "      <td>1183894362725289984</td>\n",
       "      <td>sharethiscrime</td>\n",
       "      <td>Last time I checked, he's still a floofy baby ...</td>\n",
       "      <td>2019-10-14 23:56:26+00:00</td>\n",
       "    </tr>\n",
       "    <tr>\n",
       "      <th>2</th>\n",
       "      <td>2</td>\n",
       "      <td>ne_bomb_cyclone</td>\n",
       "      <td>before</td>\n",
       "      <td>2019-10-15</td>\n",
       "      <td>power outage</td>\n",
       "      <td>1183894014573105152</td>\n",
       "      <td>News_1jl4</td>\n",
       "      <td>California’s power outage means problems for e...</td>\n",
       "      <td>2019-10-14 23:55:03+00:00</td>\n",
       "    </tr>\n",
       "    <tr>\n",
       "      <th>3</th>\n",
       "      <td>3</td>\n",
       "      <td>ne_bomb_cyclone</td>\n",
       "      <td>before</td>\n",
       "      <td>2019-10-15</td>\n",
       "      <td>power outage</td>\n",
       "      <td>1183893791415123968</td>\n",
       "      <td>IndeCardio</td>\n",
       "      <td>Newsome is vanguard Globalism in action! What ...</td>\n",
       "      <td>2019-10-14 23:54:10+00:00</td>\n",
       "    </tr>\n",
       "    <tr>\n",
       "      <th>4</th>\n",
       "      <td>4</td>\n",
       "      <td>ne_bomb_cyclone</td>\n",
       "      <td>before</td>\n",
       "      <td>2019-10-15</td>\n",
       "      <td>power outage</td>\n",
       "      <td>1183893732652810240</td>\n",
       "      <td>BaddictsPH</td>\n",
       "      <td>Super Typhoon Faxai hit Chiba prefecture in Se...</td>\n",
       "      <td>2019-10-14 23:53:56+00:00</td>\n",
       "    </tr>\n",
       "  </tbody>\n",
       "</table>\n",
       "</div>"
      ],
      "text/plain": [
       "   Unnamed: 0            Event   Stage  Query Date    Query Term  \\\n",
       "0           0  ne_bomb_cyclone  before  2019-10-15  power outage   \n",
       "1           1  ne_bomb_cyclone  before  2019-10-15  power outage   \n",
       "2           2  ne_bomb_cyclone  before  2019-10-15  power outage   \n",
       "3           3  ne_bomb_cyclone  before  2019-10-15  power outage   \n",
       "4           4  ne_bomb_cyclone  before  2019-10-15  power outage   \n",
       "\n",
       "                    Id        Username  \\\n",
       "0  1183894397492043777      meekers999   \n",
       "1  1183894362725289984  sharethiscrime   \n",
       "2  1183894014573105152       News_1jl4   \n",
       "3  1183893791415123968      IndeCardio   \n",
       "4  1183893732652810240      BaddictsPH   \n",
       "\n",
       "                                                Text  \\\n",
       "0  Let's lose Govenor Gruesome in Cali please. He...   \n",
       "1  Last time I checked, he's still a floofy baby ...   \n",
       "2  California’s power outage means problems for e...   \n",
       "3  Newsome is vanguard Globalism in action! What ...   \n",
       "4  Super Typhoon Faxai hit Chiba prefecture in Se...   \n",
       "\n",
       "                        Date  \n",
       "0  2019-10-14 23:56:34+00:00  \n",
       "1  2019-10-14 23:56:26+00:00  \n",
       "2  2019-10-14 23:55:03+00:00  \n",
       "3  2019-10-14 23:54:10+00:00  \n",
       "4  2019-10-14 23:53:56+00:00  "
      ]
     },
     "execution_count": 29,
     "metadata": {},
     "output_type": "execute_result"
    }
   ],
   "source": [
    "df1.head()"
   ]
  },
  {
   "cell_type": "code",
   "execution_count": null,
   "metadata": {},
   "outputs": [],
   "source": []
  }
 ],
 "metadata": {
  "kernelspec": {
   "display_name": "Python 3",
   "language": "python",
   "name": "python3"
  },
  "language_info": {
   "codemirror_mode": {
    "name": "ipython",
    "version": 3
   },
   "file_extension": ".py",
   "mimetype": "text/x-python",
   "name": "python",
   "nbconvert_exporter": "python",
   "pygments_lexer": "ipython3",
   "version": "3.6.4"
  }
 },
 "nbformat": 4,
 "nbformat_minor": 4
}
