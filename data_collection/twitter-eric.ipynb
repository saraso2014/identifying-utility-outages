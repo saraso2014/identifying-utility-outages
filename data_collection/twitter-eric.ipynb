{
 "cells": [
  {
   "cell_type": "markdown",
   "metadata": {},
   "source": [
    "**Library Imports**"
   ]
  },
  {
   "cell_type": "code",
   "execution_count": 20,
   "metadata": {},
   "outputs": [],
   "source": [
    "import pandas as pd\n",
    "import datetime\n",
    "import time\n",
    "import GetOldTweets3 as got"
   ]
  },
  {
   "cell_type": "markdown",
   "metadata": {},
   "source": [
    "**Credentials: Consumer and Access**"
   ]
  },
  {
   "cell_type": "markdown",
   "metadata": {},
   "source": [
    "**Create API Connection**"
   ]
  },
  {
   "cell_type": "code",
   "execution_count": 22,
   "metadata": {},
   "outputs": [],
   "source": [
    "auth = tweepy.OAuthHandler(consumer_key, consumer_secret)\n",
    "auth.set_access_token(access_token, access_token_secret)\n",
    "api = tweepy.API(auth,wait_on_rate_limit=True)"
   ]
  },
  {
   "cell_type": "markdown",
   "metadata": {},
   "source": [
    "**Search Function: GOT3**"
   ]
  },
  {
   "cell_type": "code",
   "execution_count": 23,
   "metadata": {},
   "outputs": [],
   "source": [
    "def get_tweets(event, stage, query, until, count):\n",
    "    \"\"\"Args:\n",
    "            event: string input name of outage event\n",
    "            state: string input of city\n",
    "            stage: string input of event stage(before, during, after)\n",
    "            query: string input query to search for\n",
    "            until: datetime stamp for last day of event stage\n",
    "            count: max number of tweets to return\n",
    "        Returns:\n",
    "            dataframe of tweets\n",
    "    \"\"\"\n",
    "    \n",
    "    # STEP 1: set tweet search criteria\n",
    "    tweetCriteria = got.manager.TweetCriteria().setQuerySearch(query)\\\n",
    "                                               .setUntil(until)\\\n",
    "                                               .setMaxTweets(count)\\\n",
    "    # STEP 2: search tweets\n",
    "    tweets = got.manager.TweetManager.getTweets(tweetCriteria)\n",
    "    \n",
    "    # STEP 3: build list of tweets\n",
    "    list_tweets = [[event, stage, until, query, tweet.id, tweet.username, tweet.text, tweet.date, tweet.hashtags, tweet.geo] for tweet in tweets]\n",
    "\n",
    "    # STEP 4: convert to dataframe\n",
    "    df_tweets = pd.DataFrame(list_tweets, columns = ['Event','Stage','Query Date','Query Term','Id','Username','Text','Date','Hashtags','Location'])\n",
    "\n",
    "    # STEP 5: convert to csv\n",
    "    df_tweets.to_csv('{}_{}_tweets.csv'.format(event, stage), sep=',')"
   ]
  },
  {
   "cell_type": "markdown",
   "metadata": {},
   "source": [
    "**Major Winter Storm (New England 2019): Before**"
   ]
  },
  {
   "cell_type": "code",
   "execution_count": 16,
   "metadata": {},
   "outputs": [],
   "source": [
    "event = 'ne_bomb_cyclone'\n",
    "stage = 'before'\n",
    "query = 'power outage'\n",
    "until = '2019-10-15'\n",
    "count = 2000\n",
    "\n",
    "get_tweets(event,stage,query,until,count)"
   ]
  },
  {
   "cell_type": "code",
   "execution_count": 17,
   "metadata": {},
   "outputs": [],
   "source": [
    "time.sleep(3)"
   ]
  },
  {
   "cell_type": "markdown",
   "metadata": {},
   "source": [
    "**Major Winter Storm (New England 2019): During**"
   ]
  },
  {
   "cell_type": "code",
   "execution_count": 18,
   "metadata": {},
   "outputs": [],
   "source": [
    "event = 'ne_bomb_cyclone'\n",
    "stage = 'during'\n",
    "query = 'power outage'\n",
    "until = '2019-10-17'\n",
    "count = 2000\n",
    "\n",
    "get_tweets(event,stage,query,until,count)"
   ]
  },
  {
   "cell_type": "markdown",
   "metadata": {},
   "source": [
    "**Major Winter Storm (New England 2019): After**"
   ]
  },
  {
   "cell_type": "code",
   "execution_count": 24,
   "metadata": {},
   "outputs": [],
   "source": [
    "event = 'ne_bomb_cyclone'\n",
    "stage = 'after'\n",
    "query = 'power outage'\n",
    "until = '2019-10-20'\n",
    "count = 2000\n",
    "\n",
    "get_tweets(event,stage,query,until,count)"
   ]
  },
  {
   "cell_type": "markdown",
   "metadata": {},
   "source": [
    "**Notes**\n",
    "\n",
    "\n",
    "- 450 tweets / 15 mins using app authorization\n",
    "- build query list to search multiple terms\n",
    "- build datetime filter for tweets between specific range\n",
    "- build location filter for tweets in specific locations\n",
    "- filter search by location\n",
    "- get only tweets with location properties\n",
    "- filter tweets by time range"
   ]
  }
 ],
 "metadata": {
  "kernelspec": {
   "display_name": "Python 3",
   "language": "python",
   "name": "python3"
  },
  "language_info": {
   "codemirror_mode": {
    "name": "ipython",
    "version": 3
   },
   "file_extension": ".py",
   "mimetype": "text/x-python",
   "name": "python",
   "nbconvert_exporter": "python",
   "pygments_lexer": "ipython3",
   "version": "3.7.6"
  }
 },
 "nbformat": 4,
 "nbformat_minor": 4
}
